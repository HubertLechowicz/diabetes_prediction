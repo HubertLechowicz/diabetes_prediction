{
  "metadata": {
    "kernelspec": {
      "language": "python",
      "display_name": "Python 3",
      "name": "python3"
    },
    "language_info": {
      "name": "python",
      "version": "3.7.10",
      "mimetype": "text/x-python",
      "codemirror_mode": {
        "name": "ipython",
        "version": 3
      },
      "pygments_lexer": "ipython3",
      "nbconvert_exporter": "python",
      "file_extension": ".py"
    },
    "colab": {
      "name": "diabetes-prediction-project.ipynb",
      "provenance": []
    }
  },
  "nbformat_minor": 0,
  "nbformat": 4,
  "cells": [
    {
      "cell_type": "markdown",
      "source": [
        "# Diabetes Prediction\n",
        "## What is Diabetes?\n",
        "Diabetes is a chronic disease that occurs when the pancreas is no longer able to make insulin, or when the body cannot make good use of the insulin it produces. \n",
        "\n",
        "- The objective is to classify whether someone has diabetes or not.\n",
        "\n",
        "## About the Dataset\n",
        "\n",
        "- Pregnancies :- Number of times a woman has been pregnant\n",
        "- Glucose :- Plasma Glucose concentration of 2 hours in an oral glucose tolerance test\n",
        "- BloodPressure :- Diastollic Blood Pressure (mm hg)\n",
        "- SkinThickness :- Triceps skin fold thickness(mm)\n",
        "- Insulin :- 2 hour serum insulin(mu U/ml)\n",
        "- BMI :- Body Mass Index ((weight in kg/height in m)^2)\n",
        "- Age :- Age(years)\n",
        "- DiabetesPedigreeFunction :-scores likelihood of diabetes based on family history) \n",
        "- Outcome :- 0(doesn't have diabetes) or 1 (has diabetes)"
      ],
      "metadata": {
        "id": "GWyOxOzQOUej"
      }
    },
    {
      "cell_type": "markdown",
      "source": [
        "# INDEX :- \n",
        "**1. Importing Required Libraries**\n",
        "\n",
        "**2. Loading the Dataset**\n",
        "\n",
        "**3. Exploratory Data Analysis**\n",
        "\n",
        "a. Understanding the dataset\n",
        "- Head of the dataset\n",
        "- Shape of the data set\n",
        "- Types of columns\n",
        "- Information about data set\n",
        "- Summary of the data set\n",
        "\n",
        "b. Data Cleaning\n",
        "- Dropping duplicate values\n",
        "- Checking NULL values\n",
        "- Checking for 0 value\n",
        "         \n",
        "**4. Data Visualization**\n",
        "####  Here we are going to plot :-\n",
        " - Count Plot :- to see if the dataset is balanced or not\n",
        " - Histograms :- to see if data is normally distributed or skewed\n",
        " - Box Plot :- to analyse the distribution and see the outliers\n",
        " - Scatter plots :- to understand relationship between any two variables\n",
        " - Pair plot :- to create scatter plot between all the variables\n",
        " \n",
        "**5. Feature Selection**\n",
        "\n",
        "**6. Handling Outliers**\n",
        "\n",
        "**7. Split the Data Frame into X and y**\n",
        "\n",
        "**8. PCA**\n",
        "\n",
        "**9. Build the Classification Algorithm**\n",
        "\n",
        "9.1  KNN\n",
        "\n",
        "9.2  KNN Centroid\n",
        "\n",
        "9.3  KNN (self implemented, k = 3 , euclidan distance) \n",
        "\n",
        "9.4  Soft Sets\n",
        "\n",
        "9.5  Fuzzy Sets\n",
        "\n",
        "\n",
        "#### The models include the following:- \n",
        "\n",
        "  a. Hyper Parameter Tuning using GridSearch CV \n",
        "  \n",
        "  b. Fit Best Model\n",
        "  \n",
        "  c. Predict on testing data using that model\n",
        "  \n",
        "  d. Performance Metrics :- Confusion Matrix, F1 Score, Precision Score, Recall Score\n",
        "\n",
        "**10. Conclusion**\n",
        "\n",
        "**11. Generate PDF doc from the .ipnyb**"
      ],
      "metadata": {
        "execution": {
          "iopub.status.busy": "2021-11-08T14:43:40.610193Z",
          "iopub.execute_input": "2021-11-08T14:43:40.610512Z",
          "iopub.status.idle": "2021-11-08T14:43:40.621023Z",
          "shell.execute_reply.started": "2021-11-08T14:43:40.610478Z",
          "shell.execute_reply": "2021-11-08T14:43:40.619815Z"
        },
        "id": "5SsSa0TBOUen"
      }
    },
    {
      "cell_type": "markdown",
      "source": [
        "# 1. Import Required Libraries"
      ],
      "metadata": {
        "id": "hZGlsBz3OUeo"
      }
    },
    {
      "cell_type": "code",
      "source": [
        "!pip install scikit-fuzzy"
      ],
      "metadata": {
        "execution": {
          "iopub.status.busy": "2022-01-16T17:05:00.546937Z",
          "iopub.execute_input": "2022-01-16T17:05:00.547979Z",
          "iopub.status.idle": "2022-01-16T17:05:07.790518Z",
          "shell.execute_reply.started": "2022-01-16T17:05:00.547882Z",
          "shell.execute_reply": "2022-01-16T17:05:07.789714Z"
        },
        "trusted": true,
        "colab": {
          "base_uri": "https://localhost:8080/"
        },
        "id": "a-7qU95zOUep",
        "outputId": "c14ccebd-d4a4-42da-e714-8b91fa76a8c5"
      },
      "execution_count": null,
      "outputs": [
        {
          "output_type": "stream",
          "name": "stdout",
          "text": [
            "Collecting scikit-fuzzy\n",
            "  Downloading scikit-fuzzy-0.4.2.tar.gz (993 kB)\n",
            "\u001b[?25l\r\u001b[K     |▎                               | 10 kB 24.3 MB/s eta 0:00:01\r\u001b[K     |▋                               | 20 kB 27.8 MB/s eta 0:00:01\r\u001b[K     |█                               | 30 kB 31.4 MB/s eta 0:00:01\r\u001b[K     |█▎                              | 40 kB 36.0 MB/s eta 0:00:01\r\u001b[K     |█▋                              | 51 kB 40.0 MB/s eta 0:00:01\r\u001b[K     |██                              | 61 kB 34.5 MB/s eta 0:00:01\r\u001b[K     |██▎                             | 71 kB 28.3 MB/s eta 0:00:01\r\u001b[K     |██▋                             | 81 kB 28.1 MB/s eta 0:00:01\r\u001b[K     |███                             | 92 kB 29.7 MB/s eta 0:00:01\r\u001b[K     |███▎                            | 102 kB 31.5 MB/s eta 0:00:01\r\u001b[K     |███▋                            | 112 kB 31.5 MB/s eta 0:00:01\r\u001b[K     |████                            | 122 kB 31.5 MB/s eta 0:00:01\r\u001b[K     |████▎                           | 133 kB 31.5 MB/s eta 0:00:01\r\u001b[K     |████▋                           | 143 kB 31.5 MB/s eta 0:00:01\r\u001b[K     |█████                           | 153 kB 31.5 MB/s eta 0:00:01\r\u001b[K     |█████▎                          | 163 kB 31.5 MB/s eta 0:00:01\r\u001b[K     |█████▋                          | 174 kB 31.5 MB/s eta 0:00:01\r\u001b[K     |██████                          | 184 kB 31.5 MB/s eta 0:00:01\r\u001b[K     |██████▎                         | 194 kB 31.5 MB/s eta 0:00:01\r\u001b[K     |██████▋                         | 204 kB 31.5 MB/s eta 0:00:01\r\u001b[K     |███████                         | 215 kB 31.5 MB/s eta 0:00:01\r\u001b[K     |███████▎                        | 225 kB 31.5 MB/s eta 0:00:01\r\u001b[K     |███████▋                        | 235 kB 31.5 MB/s eta 0:00:01\r\u001b[K     |████████                        | 245 kB 31.5 MB/s eta 0:00:01\r\u001b[K     |████████▎                       | 256 kB 31.5 MB/s eta 0:00:01\r\u001b[K     |████████▋                       | 266 kB 31.5 MB/s eta 0:00:01\r\u001b[K     |█████████                       | 276 kB 31.5 MB/s eta 0:00:01\r\u001b[K     |█████████▎                      | 286 kB 31.5 MB/s eta 0:00:01\r\u001b[K     |█████████▋                      | 296 kB 31.5 MB/s eta 0:00:01\r\u001b[K     |██████████                      | 307 kB 31.5 MB/s eta 0:00:01\r\u001b[K     |██████████▏                     | 317 kB 31.5 MB/s eta 0:00:01\r\u001b[K     |██████████▌                     | 327 kB 31.5 MB/s eta 0:00:01\r\u001b[K     |██████████▉                     | 337 kB 31.5 MB/s eta 0:00:01\r\u001b[K     |███████████▏                    | 348 kB 31.5 MB/s eta 0:00:01\r\u001b[K     |███████████▌                    | 358 kB 31.5 MB/s eta 0:00:01\r\u001b[K     |███████████▉                    | 368 kB 31.5 MB/s eta 0:00:01\r\u001b[K     |████████████▏                   | 378 kB 31.5 MB/s eta 0:00:01\r\u001b[K     |████████████▌                   | 389 kB 31.5 MB/s eta 0:00:01\r\u001b[K     |████████████▉                   | 399 kB 31.5 MB/s eta 0:00:01\r\u001b[K     |█████████████▏                  | 409 kB 31.5 MB/s eta 0:00:01\r\u001b[K     |█████████████▌                  | 419 kB 31.5 MB/s eta 0:00:01\r\u001b[K     |█████████████▉                  | 430 kB 31.5 MB/s eta 0:00:01\r\u001b[K     |██████████████▏                 | 440 kB 31.5 MB/s eta 0:00:01\r\u001b[K     |██████████████▌                 | 450 kB 31.5 MB/s eta 0:00:01\r\u001b[K     |██████████████▉                 | 460 kB 31.5 MB/s eta 0:00:01\r\u001b[K     |███████████████▏                | 471 kB 31.5 MB/s eta 0:00:01\r\u001b[K     |███████████████▌                | 481 kB 31.5 MB/s eta 0:00:01\r\u001b[K     |███████████████▉                | 491 kB 31.5 MB/s eta 0:00:01\r\u001b[K     |████████████████▏               | 501 kB 31.5 MB/s eta 0:00:01\r\u001b[K     |████████████████▌               | 512 kB 31.5 MB/s eta 0:00:01\r\u001b[K     |████████████████▉               | 522 kB 31.5 MB/s eta 0:00:01\r\u001b[K     |█████████████████▏              | 532 kB 31.5 MB/s eta 0:00:01\r\u001b[K     |█████████████████▌              | 542 kB 31.5 MB/s eta 0:00:01\r\u001b[K     |█████████████████▉              | 552 kB 31.5 MB/s eta 0:00:01\r\u001b[K     |██████████████████▏             | 563 kB 31.5 MB/s eta 0:00:01\r\u001b[K     |██████████████████▌             | 573 kB 31.5 MB/s eta 0:00:01\r\u001b[K     |██████████████████▉             | 583 kB 31.5 MB/s eta 0:00:01\r\u001b[K     |███████████████████▏            | 593 kB 31.5 MB/s eta 0:00:01\r\u001b[K     |███████████████████▌            | 604 kB 31.5 MB/s eta 0:00:01\r\u001b[K     |███████████████████▉            | 614 kB 31.5 MB/s eta 0:00:01\r\u001b[K     |████████████████████            | 624 kB 31.5 MB/s eta 0:00:01\r\u001b[K     |████████████████████▍           | 634 kB 31.5 MB/s eta 0:00:01\r\u001b[K     |████████████████████▊           | 645 kB 31.5 MB/s eta 0:00:01\r\u001b[K     |█████████████████████           | 655 kB 31.5 MB/s eta 0:00:01\r\u001b[K     |█████████████████████▍          | 665 kB 31.5 MB/s eta 0:00:01\r\u001b[K     |█████████████████████▊          | 675 kB 31.5 MB/s eta 0:00:01\r\u001b[K     |██████████████████████          | 686 kB 31.5 MB/s eta 0:00:01\r\u001b[K     |██████████████████████▍         | 696 kB 31.5 MB/s eta 0:00:01\r\u001b[K     |██████████████████████▊         | 706 kB 31.5 MB/s eta 0:00:01\r\u001b[K     |███████████████████████         | 716 kB 31.5 MB/s eta 0:00:01\r\u001b[K     |███████████████████████▍        | 727 kB 31.5 MB/s eta 0:00:01\r\u001b[K     |███████████████████████▊        | 737 kB 31.5 MB/s eta 0:00:01\r\u001b[K     |████████████████████████        | 747 kB 31.5 MB/s eta 0:00:01\r\u001b[K     |████████████████████████▍       | 757 kB 31.5 MB/s eta 0:00:01\r\u001b[K     |████████████████████████▊       | 768 kB 31.5 MB/s eta 0:00:01\r\u001b[K     |█████████████████████████       | 778 kB 31.5 MB/s eta 0:00:01\r\u001b[K     |█████████████████████████▍      | 788 kB 31.5 MB/s eta 0:00:01\r\u001b[K     |█████████████████████████▊      | 798 kB 31.5 MB/s eta 0:00:01\r\u001b[K     |██████████████████████████      | 808 kB 31.5 MB/s eta 0:00:01\r\u001b[K     |██████████████████████████▍     | 819 kB 31.5 MB/s eta 0:00:01\r\u001b[K     |██████████████████████████▊     | 829 kB 31.5 MB/s eta 0:00:01\r\u001b[K     |███████████████████████████     | 839 kB 31.5 MB/s eta 0:00:01\r\u001b[K     |███████████████████████████▍    | 849 kB 31.5 MB/s eta 0:00:01\r\u001b[K     |███████████████████████████▊    | 860 kB 31.5 MB/s eta 0:00:01\r\u001b[K     |████████████████████████████    | 870 kB 31.5 MB/s eta 0:00:01\r\u001b[K     |████████████████████████████▍   | 880 kB 31.5 MB/s eta 0:00:01\r\u001b[K     |████████████████████████████▊   | 890 kB 31.5 MB/s eta 0:00:01\r\u001b[K     |█████████████████████████████   | 901 kB 31.5 MB/s eta 0:00:01\r\u001b[K     |█████████████████████████████▍  | 911 kB 31.5 MB/s eta 0:00:01\r\u001b[K     |█████████████████████████████▊  | 921 kB 31.5 MB/s eta 0:00:01\r\u001b[K     |██████████████████████████████  | 931 kB 31.5 MB/s eta 0:00:01\r\u001b[K     |██████████████████████████████▎ | 942 kB 31.5 MB/s eta 0:00:01\r\u001b[K     |██████████████████████████████▋ | 952 kB 31.5 MB/s eta 0:00:01\r\u001b[K     |███████████████████████████████ | 962 kB 31.5 MB/s eta 0:00:01\r\u001b[K     |███████████████████████████████▎| 972 kB 31.5 MB/s eta 0:00:01\r\u001b[K     |███████████████████████████████▋| 983 kB 31.5 MB/s eta 0:00:01\r\u001b[K     |████████████████████████████████| 993 kB 31.5 MB/s eta 0:00:01\r\u001b[K     |████████████████████████████████| 993 kB 31.5 MB/s \n",
            "\u001b[?25hRequirement already satisfied: numpy>=1.6.0 in /usr/local/lib/python3.7/dist-packages (from scikit-fuzzy) (1.19.5)\n",
            "Requirement already satisfied: scipy>=0.9.0 in /usr/local/lib/python3.7/dist-packages (from scikit-fuzzy) (1.4.1)\n",
            "Requirement already satisfied: networkx>=1.9.0 in /usr/local/lib/python3.7/dist-packages (from scikit-fuzzy) (2.6.3)\n",
            "Building wheels for collected packages: scikit-fuzzy\n",
            "  Building wheel for scikit-fuzzy (setup.py) ... \u001b[?25l\u001b[?25hdone\n",
            "  Created wheel for scikit-fuzzy: filename=scikit_fuzzy-0.4.2-py3-none-any.whl size=894089 sha256=edb4edefc4c9078d7aced97821a27488e86a87da84c7410e63c2daa0c2bf61c6\n",
            "  Stored in directory: /root/.cache/pip/wheels/d5/74/fc/38588a3d2e3f34f74588e6daa3aa5b0a322bd6f9420a707131\n",
            "Successfully built scikit-fuzzy\n",
            "Installing collected packages: scikit-fuzzy\n",
            "Successfully installed scikit-fuzzy-0.4.2\n"
          ]
        }
      ]
    },
    {
      "cell_type": "code",
      "source": [
        "import numpy as np # linear algebra\n",
        "import pandas as pd # data processing, CSV file I/O (e.g. pd.read_csv)\n",
        "import matplotlib.pyplot as plt #to plot charts\n",
        "import seaborn as sns #used for data visualization\n",
        "import warnings #avoid warning flash\n",
        "warnings.filterwarnings('ignore')\n",
        "\n",
        "\n"
      ],
      "metadata": {
        "_uuid": "8f2839f25d086af736a60e9eeb907d3b93b6e0e5",
        "_cell_guid": "b1076dfc-b9ad-4769-8c92-a6c4dae69d19",
        "execution": {
          "iopub.status.busy": "2022-01-16T17:05:07.792708Z",
          "iopub.execute_input": "2022-01-16T17:05:07.792971Z",
          "iopub.status.idle": "2022-01-16T17:05:07.801819Z",
          "shell.execute_reply.started": "2022-01-16T17:05:07.792928Z",
          "shell.execute_reply": "2022-01-16T17:05:07.800822Z"
        },
        "trusted": true,
        "id": "hCfp4RRROUeq"
      },
      "execution_count": 254,
      "outputs": []
    },
    {
      "cell_type": "markdown",
      "source": [
        "# 2. Loading the dataset "
      ],
      "metadata": {
        "id": "neu2BMz4OUer"
      }
    },
    {
      "cell_type": "code",
      "source": [
        "df=pd.read_csv(\"/content/diabetes.csv\")"
      ],
      "metadata": {
        "execution": {
          "iopub.status.busy": "2022-01-16T17:05:07.803235Z",
          "iopub.execute_input": "2022-01-16T17:05:07.803462Z",
          "iopub.status.idle": "2022-01-16T17:05:07.819650Z",
          "shell.execute_reply.started": "2022-01-16T17:05:07.803435Z",
          "shell.execute_reply": "2022-01-16T17:05:07.818746Z"
        },
        "trusted": true,
        "id": "HgAw-aqCOUer"
      },
      "execution_count": null,
      "outputs": []
    },
    {
      "cell_type": "markdown",
      "source": [
        "# 3. Exploratory Data Analysis\n",
        "## a. Understanding the dataset\n",
        "- Head of the dataset\n",
        "- Shape of the data set\n",
        "- Types of columns\n",
        "- Information about data set\n",
        "- Summary of the data set"
      ],
      "metadata": {
        "id": "L8cMpuouOUes"
      }
    },
    {
      "cell_type": "code",
      "source": [
        "df.head() #get familier with dataset, display the top 5 data records"
      ],
      "metadata": {
        "execution": {
          "iopub.status.busy": "2022-01-16T17:05:07.821988Z",
          "iopub.execute_input": "2022-01-16T17:05:07.822445Z",
          "iopub.status.idle": "2022-01-16T17:05:07.836798Z",
          "shell.execute_reply.started": "2022-01-16T17:05:07.822401Z",
          "shell.execute_reply": "2022-01-16T17:05:07.835812Z"
        },
        "trusted": true,
        "colab": {
          "base_uri": "https://localhost:8080/",
          "height": 206
        },
        "id": "n7Xn5e-4OUes",
        "outputId": "c060d631-3ebd-4d71-c7d6-28874f776978"
      },
      "execution_count": null,
      "outputs": [
        {
          "output_type": "execute_result",
          "data": {
            "text/html": [
              "\n",
              "  <div id=\"df-a7a89de3-7b96-4b2e-85cd-35c56623b248\">\n",
              "    <div class=\"colab-df-container\">\n",
              "      <div>\n",
              "<style scoped>\n",
              "    .dataframe tbody tr th:only-of-type {\n",
              "        vertical-align: middle;\n",
              "    }\n",
              "\n",
              "    .dataframe tbody tr th {\n",
              "        vertical-align: top;\n",
              "    }\n",
              "\n",
              "    .dataframe thead th {\n",
              "        text-align: right;\n",
              "    }\n",
              "</style>\n",
              "<table border=\"1\" class=\"dataframe\">\n",
              "  <thead>\n",
              "    <tr style=\"text-align: right;\">\n",
              "      <th></th>\n",
              "      <th>Pregnancies</th>\n",
              "      <th>Glucose</th>\n",
              "      <th>BloodPressure</th>\n",
              "      <th>SkinThickness</th>\n",
              "      <th>Insulin</th>\n",
              "      <th>BMI</th>\n",
              "      <th>DiabetesPedigreeFunction</th>\n",
              "      <th>Age</th>\n",
              "      <th>Outcome</th>\n",
              "    </tr>\n",
              "  </thead>\n",
              "  <tbody>\n",
              "    <tr>\n",
              "      <th>0</th>\n",
              "      <td>6</td>\n",
              "      <td>148</td>\n",
              "      <td>72</td>\n",
              "      <td>35</td>\n",
              "      <td>0</td>\n",
              "      <td>33.6</td>\n",
              "      <td>0.627</td>\n",
              "      <td>50</td>\n",
              "      <td>1</td>\n",
              "    </tr>\n",
              "    <tr>\n",
              "      <th>1</th>\n",
              "      <td>1</td>\n",
              "      <td>85</td>\n",
              "      <td>66</td>\n",
              "      <td>29</td>\n",
              "      <td>0</td>\n",
              "      <td>26.6</td>\n",
              "      <td>0.351</td>\n",
              "      <td>31</td>\n",
              "      <td>0</td>\n",
              "    </tr>\n",
              "    <tr>\n",
              "      <th>2</th>\n",
              "      <td>8</td>\n",
              "      <td>183</td>\n",
              "      <td>64</td>\n",
              "      <td>0</td>\n",
              "      <td>0</td>\n",
              "      <td>23.3</td>\n",
              "      <td>0.672</td>\n",
              "      <td>32</td>\n",
              "      <td>1</td>\n",
              "    </tr>\n",
              "    <tr>\n",
              "      <th>3</th>\n",
              "      <td>1</td>\n",
              "      <td>89</td>\n",
              "      <td>66</td>\n",
              "      <td>23</td>\n",
              "      <td>94</td>\n",
              "      <td>28.1</td>\n",
              "      <td>0.167</td>\n",
              "      <td>21</td>\n",
              "      <td>0</td>\n",
              "    </tr>\n",
              "    <tr>\n",
              "      <th>4</th>\n",
              "      <td>0</td>\n",
              "      <td>137</td>\n",
              "      <td>40</td>\n",
              "      <td>35</td>\n",
              "      <td>168</td>\n",
              "      <td>43.1</td>\n",
              "      <td>2.288</td>\n",
              "      <td>33</td>\n",
              "      <td>1</td>\n",
              "    </tr>\n",
              "  </tbody>\n",
              "</table>\n",
              "</div>\n",
              "      <button class=\"colab-df-convert\" onclick=\"convertToInteractive('df-a7a89de3-7b96-4b2e-85cd-35c56623b248')\"\n",
              "              title=\"Convert this dataframe to an interactive table.\"\n",
              "              style=\"display:none;\">\n",
              "        \n",
              "  <svg xmlns=\"http://www.w3.org/2000/svg\" height=\"24px\"viewBox=\"0 0 24 24\"\n",
              "       width=\"24px\">\n",
              "    <path d=\"M0 0h24v24H0V0z\" fill=\"none\"/>\n",
              "    <path d=\"M18.56 5.44l.94 2.06.94-2.06 2.06-.94-2.06-.94-.94-2.06-.94 2.06-2.06.94zm-11 1L8.5 8.5l.94-2.06 2.06-.94-2.06-.94L8.5 2.5l-.94 2.06-2.06.94zm10 10l.94 2.06.94-2.06 2.06-.94-2.06-.94-.94-2.06-.94 2.06-2.06.94z\"/><path d=\"M17.41 7.96l-1.37-1.37c-.4-.4-.92-.59-1.43-.59-.52 0-1.04.2-1.43.59L10.3 9.45l-7.72 7.72c-.78.78-.78 2.05 0 2.83L4 21.41c.39.39.9.59 1.41.59.51 0 1.02-.2 1.41-.59l7.78-7.78 2.81-2.81c.8-.78.8-2.07 0-2.86zM5.41 20L4 18.59l7.72-7.72 1.47 1.35L5.41 20z\"/>\n",
              "  </svg>\n",
              "      </button>\n",
              "      \n",
              "  <style>\n",
              "    .colab-df-container {\n",
              "      display:flex;\n",
              "      flex-wrap:wrap;\n",
              "      gap: 12px;\n",
              "    }\n",
              "\n",
              "    .colab-df-convert {\n",
              "      background-color: #E8F0FE;\n",
              "      border: none;\n",
              "      border-radius: 50%;\n",
              "      cursor: pointer;\n",
              "      display: none;\n",
              "      fill: #1967D2;\n",
              "      height: 32px;\n",
              "      padding: 0 0 0 0;\n",
              "      width: 32px;\n",
              "    }\n",
              "\n",
              "    .colab-df-convert:hover {\n",
              "      background-color: #E2EBFA;\n",
              "      box-shadow: 0px 1px 2px rgba(60, 64, 67, 0.3), 0px 1px 3px 1px rgba(60, 64, 67, 0.15);\n",
              "      fill: #174EA6;\n",
              "    }\n",
              "\n",
              "    [theme=dark] .colab-df-convert {\n",
              "      background-color: #3B4455;\n",
              "      fill: #D2E3FC;\n",
              "    }\n",
              "\n",
              "    [theme=dark] .colab-df-convert:hover {\n",
              "      background-color: #434B5C;\n",
              "      box-shadow: 0px 1px 3px 1px rgba(0, 0, 0, 0.15);\n",
              "      filter: drop-shadow(0px 1px 2px rgba(0, 0, 0, 0.3));\n",
              "      fill: #FFFFFF;\n",
              "    }\n",
              "  </style>\n",
              "\n",
              "      <script>\n",
              "        const buttonEl =\n",
              "          document.querySelector('#df-a7a89de3-7b96-4b2e-85cd-35c56623b248 button.colab-df-convert');\n",
              "        buttonEl.style.display =\n",
              "          google.colab.kernel.accessAllowed ? 'block' : 'none';\n",
              "\n",
              "        async function convertToInteractive(key) {\n",
              "          const element = document.querySelector('#df-a7a89de3-7b96-4b2e-85cd-35c56623b248');\n",
              "          const dataTable =\n",
              "            await google.colab.kernel.invokeFunction('convertToInteractive',\n",
              "                                                     [key], {});\n",
              "          if (!dataTable) return;\n",
              "\n",
              "          const docLinkHtml = 'Like what you see? Visit the ' +\n",
              "            '<a target=\"_blank\" href=https://colab.research.google.com/notebooks/data_table.ipynb>data table notebook</a>'\n",
              "            + ' to learn more about interactive tables.';\n",
              "          element.innerHTML = '';\n",
              "          dataTable['output_type'] = 'display_data';\n",
              "          await google.colab.output.renderOutput(dataTable, element);\n",
              "          const docLink = document.createElement('div');\n",
              "          docLink.innerHTML = docLinkHtml;\n",
              "          element.appendChild(docLink);\n",
              "        }\n",
              "      </script>\n",
              "    </div>\n",
              "  </div>\n",
              "  "
            ],
            "text/plain": [
              "   Pregnancies  Glucose  BloodPressure  ...  DiabetesPedigreeFunction  Age  Outcome\n",
              "0            6      148             72  ...                     0.627   50        1\n",
              "1            1       85             66  ...                     0.351   31        0\n",
              "2            8      183             64  ...                     0.672   32        1\n",
              "3            1       89             66  ...                     0.167   21        0\n",
              "4            0      137             40  ...                     2.288   33        1\n",
              "\n",
              "[5 rows x 9 columns]"
            ]
          },
          "metadata": {},
          "execution_count": 4
        }
      ]
    },
    {
      "cell_type": "code",
      "source": [
        "df.shape #getting to know about rows and columns we're dealing with - 768 rows , 9 columns"
      ],
      "metadata": {
        "execution": {
          "iopub.status.busy": "2022-01-16T17:05:07.838215Z",
          "iopub.execute_input": "2022-01-16T17:05:07.838606Z",
          "iopub.status.idle": "2022-01-16T17:05:07.843947Z",
          "shell.execute_reply.started": "2022-01-16T17:05:07.838565Z",
          "shell.execute_reply": "2022-01-16T17:05:07.843202Z"
        },
        "trusted": true,
        "colab": {
          "base_uri": "https://localhost:8080/"
        },
        "id": "ACjgZ2f3OUet",
        "outputId": "6f0ad508-4291-453d-c4d2-fb72a922f2e6"
      },
      "execution_count": null,
      "outputs": [
        {
          "output_type": "execute_result",
          "data": {
            "text/plain": [
              "(768, 9)"
            ]
          },
          "metadata": {},
          "execution_count": 5
        }
      ]
    },
    {
      "cell_type": "code",
      "source": [
        "df.columns #learning about the columns"
      ],
      "metadata": {
        "execution": {
          "iopub.status.busy": "2022-01-16T17:05:07.845352Z",
          "iopub.execute_input": "2022-01-16T17:05:07.845582Z",
          "iopub.status.idle": "2022-01-16T17:05:07.856707Z",
          "shell.execute_reply.started": "2022-01-16T17:05:07.845554Z",
          "shell.execute_reply": "2022-01-16T17:05:07.856021Z"
        },
        "trusted": true,
        "colab": {
          "base_uri": "https://localhost:8080/"
        },
        "id": "GZAgwvZ6OUet",
        "outputId": "1e57c170-839c-42fc-c5a2-82728d87c61d"
      },
      "execution_count": null,
      "outputs": [
        {
          "output_type": "execute_result",
          "data": {
            "text/plain": [
              "Index(['Pregnancies', 'Glucose', 'BloodPressure', 'SkinThickness', 'Insulin',\n",
              "       'BMI', 'DiabetesPedigreeFunction', 'Age', 'Outcome'],\n",
              "      dtype='object')"
            ]
          },
          "metadata": {},
          "execution_count": 6
        }
      ]
    },
    {
      "cell_type": "code",
      "source": [
        "df.dtypes #knowledge of data type helps for computation"
      ],
      "metadata": {
        "execution": {
          "iopub.status.busy": "2022-01-16T17:05:07.857587Z",
          "iopub.execute_input": "2022-01-16T17:05:07.858119Z",
          "iopub.status.idle": "2022-01-16T17:05:07.870392Z",
          "shell.execute_reply.started": "2022-01-16T17:05:07.858072Z",
          "shell.execute_reply": "2022-01-16T17:05:07.869550Z"
        },
        "trusted": true,
        "colab": {
          "base_uri": "https://localhost:8080/"
        },
        "id": "N6UrrIcKOUet",
        "outputId": "b977912c-47f4-4ba9-f214-95fa86b9747f"
      },
      "execution_count": null,
      "outputs": [
        {
          "output_type": "execute_result",
          "data": {
            "text/plain": [
              "Pregnancies                   int64\n",
              "Glucose                       int64\n",
              "BloodPressure                 int64\n",
              "SkinThickness                 int64\n",
              "Insulin                       int64\n",
              "BMI                         float64\n",
              "DiabetesPedigreeFunction    float64\n",
              "Age                           int64\n",
              "Outcome                       int64\n",
              "dtype: object"
            ]
          },
          "metadata": {},
          "execution_count": 7
        }
      ]
    },
    {
      "cell_type": "code",
      "source": [
        "df.info() #Print a concise summary of a DataFrame. This method prints information about a DataFrame including the index dtype and columns, non-null values and memory usage."
      ],
      "metadata": {
        "execution": {
          "iopub.status.busy": "2022-01-16T17:05:07.871654Z",
          "iopub.execute_input": "2022-01-16T17:05:07.872383Z",
          "iopub.status.idle": "2022-01-16T17:05:07.891149Z",
          "shell.execute_reply.started": "2022-01-16T17:05:07.872352Z",
          "shell.execute_reply": "2022-01-16T17:05:07.890216Z"
        },
        "trusted": true,
        "colab": {
          "base_uri": "https://localhost:8080/"
        },
        "id": "isGjqKeWOUeu",
        "outputId": "48a949de-6517-4a6f-df1b-6582c01523d2"
      },
      "execution_count": null,
      "outputs": [
        {
          "output_type": "stream",
          "name": "stdout",
          "text": [
            "<class 'pandas.core.frame.DataFrame'>\n",
            "RangeIndex: 768 entries, 0 to 767\n",
            "Data columns (total 9 columns):\n",
            " #   Column                    Non-Null Count  Dtype  \n",
            "---  ------                    --------------  -----  \n",
            " 0   Pregnancies               768 non-null    int64  \n",
            " 1   Glucose                   768 non-null    int64  \n",
            " 2   BloodPressure             768 non-null    int64  \n",
            " 3   SkinThickness             768 non-null    int64  \n",
            " 4   Insulin                   768 non-null    int64  \n",
            " 5   BMI                       768 non-null    float64\n",
            " 6   DiabetesPedigreeFunction  768 non-null    float64\n",
            " 7   Age                       768 non-null    int64  \n",
            " 8   Outcome                   768 non-null    int64  \n",
            "dtypes: float64(2), int64(7)\n",
            "memory usage: 54.1 KB\n"
          ]
        }
      ]
    },
    {
      "cell_type": "code",
      "source": [
        "df.describe() #helps us to understand how data has been spread across the table."
      ],
      "metadata": {
        "execution": {
          "iopub.status.busy": "2022-01-16T17:05:07.892498Z",
          "iopub.execute_input": "2022-01-16T17:05:07.893165Z",
          "iopub.status.idle": "2022-01-16T17:05:07.926637Z",
          "shell.execute_reply.started": "2022-01-16T17:05:07.893133Z",
          "shell.execute_reply": "2022-01-16T17:05:07.925717Z"
        },
        "trusted": true,
        "colab": {
          "base_uri": "https://localhost:8080/",
          "height": 300
        },
        "id": "ftjgbPJBOUev",
        "outputId": "ebc292df-d422-44b0-c2e3-10ee8819f0d9"
      },
      "execution_count": null,
      "outputs": [
        {
          "output_type": "execute_result",
          "data": {
            "text/html": [
              "\n",
              "  <div id=\"df-9cf90066-b6bd-429d-9f5e-806a6aad4855\">\n",
              "    <div class=\"colab-df-container\">\n",
              "      <div>\n",
              "<style scoped>\n",
              "    .dataframe tbody tr th:only-of-type {\n",
              "        vertical-align: middle;\n",
              "    }\n",
              "\n",
              "    .dataframe tbody tr th {\n",
              "        vertical-align: top;\n",
              "    }\n",
              "\n",
              "    .dataframe thead th {\n",
              "        text-align: right;\n",
              "    }\n",
              "</style>\n",
              "<table border=\"1\" class=\"dataframe\">\n",
              "  <thead>\n",
              "    <tr style=\"text-align: right;\">\n",
              "      <th></th>\n",
              "      <th>Pregnancies</th>\n",
              "      <th>Glucose</th>\n",
              "      <th>BloodPressure</th>\n",
              "      <th>SkinThickness</th>\n",
              "      <th>Insulin</th>\n",
              "      <th>BMI</th>\n",
              "      <th>DiabetesPedigreeFunction</th>\n",
              "      <th>Age</th>\n",
              "      <th>Outcome</th>\n",
              "    </tr>\n",
              "  </thead>\n",
              "  <tbody>\n",
              "    <tr>\n",
              "      <th>count</th>\n",
              "      <td>768.000000</td>\n",
              "      <td>768.000000</td>\n",
              "      <td>768.000000</td>\n",
              "      <td>768.000000</td>\n",
              "      <td>768.000000</td>\n",
              "      <td>768.000000</td>\n",
              "      <td>768.000000</td>\n",
              "      <td>768.000000</td>\n",
              "      <td>768.000000</td>\n",
              "    </tr>\n",
              "    <tr>\n",
              "      <th>mean</th>\n",
              "      <td>3.845052</td>\n",
              "      <td>120.894531</td>\n",
              "      <td>69.105469</td>\n",
              "      <td>20.536458</td>\n",
              "      <td>79.799479</td>\n",
              "      <td>31.992578</td>\n",
              "      <td>0.471876</td>\n",
              "      <td>33.240885</td>\n",
              "      <td>0.348958</td>\n",
              "    </tr>\n",
              "    <tr>\n",
              "      <th>std</th>\n",
              "      <td>3.369578</td>\n",
              "      <td>31.972618</td>\n",
              "      <td>19.355807</td>\n",
              "      <td>15.952218</td>\n",
              "      <td>115.244002</td>\n",
              "      <td>7.884160</td>\n",
              "      <td>0.331329</td>\n",
              "      <td>11.760232</td>\n",
              "      <td>0.476951</td>\n",
              "    </tr>\n",
              "    <tr>\n",
              "      <th>min</th>\n",
              "      <td>0.000000</td>\n",
              "      <td>0.000000</td>\n",
              "      <td>0.000000</td>\n",
              "      <td>0.000000</td>\n",
              "      <td>0.000000</td>\n",
              "      <td>0.000000</td>\n",
              "      <td>0.078000</td>\n",
              "      <td>21.000000</td>\n",
              "      <td>0.000000</td>\n",
              "    </tr>\n",
              "    <tr>\n",
              "      <th>25%</th>\n",
              "      <td>1.000000</td>\n",
              "      <td>99.000000</td>\n",
              "      <td>62.000000</td>\n",
              "      <td>0.000000</td>\n",
              "      <td>0.000000</td>\n",
              "      <td>27.300000</td>\n",
              "      <td>0.243750</td>\n",
              "      <td>24.000000</td>\n",
              "      <td>0.000000</td>\n",
              "    </tr>\n",
              "    <tr>\n",
              "      <th>50%</th>\n",
              "      <td>3.000000</td>\n",
              "      <td>117.000000</td>\n",
              "      <td>72.000000</td>\n",
              "      <td>23.000000</td>\n",
              "      <td>30.500000</td>\n",
              "      <td>32.000000</td>\n",
              "      <td>0.372500</td>\n",
              "      <td>29.000000</td>\n",
              "      <td>0.000000</td>\n",
              "    </tr>\n",
              "    <tr>\n",
              "      <th>75%</th>\n",
              "      <td>6.000000</td>\n",
              "      <td>140.250000</td>\n",
              "      <td>80.000000</td>\n",
              "      <td>32.000000</td>\n",
              "      <td>127.250000</td>\n",
              "      <td>36.600000</td>\n",
              "      <td>0.626250</td>\n",
              "      <td>41.000000</td>\n",
              "      <td>1.000000</td>\n",
              "    </tr>\n",
              "    <tr>\n",
              "      <th>max</th>\n",
              "      <td>17.000000</td>\n",
              "      <td>199.000000</td>\n",
              "      <td>122.000000</td>\n",
              "      <td>99.000000</td>\n",
              "      <td>846.000000</td>\n",
              "      <td>67.100000</td>\n",
              "      <td>2.420000</td>\n",
              "      <td>81.000000</td>\n",
              "      <td>1.000000</td>\n",
              "    </tr>\n",
              "  </tbody>\n",
              "</table>\n",
              "</div>\n",
              "      <button class=\"colab-df-convert\" onclick=\"convertToInteractive('df-9cf90066-b6bd-429d-9f5e-806a6aad4855')\"\n",
              "              title=\"Convert this dataframe to an interactive table.\"\n",
              "              style=\"display:none;\">\n",
              "        \n",
              "  <svg xmlns=\"http://www.w3.org/2000/svg\" height=\"24px\"viewBox=\"0 0 24 24\"\n",
              "       width=\"24px\">\n",
              "    <path d=\"M0 0h24v24H0V0z\" fill=\"none\"/>\n",
              "    <path d=\"M18.56 5.44l.94 2.06.94-2.06 2.06-.94-2.06-.94-.94-2.06-.94 2.06-2.06.94zm-11 1L8.5 8.5l.94-2.06 2.06-.94-2.06-.94L8.5 2.5l-.94 2.06-2.06.94zm10 10l.94 2.06.94-2.06 2.06-.94-2.06-.94-.94-2.06-.94 2.06-2.06.94z\"/><path d=\"M17.41 7.96l-1.37-1.37c-.4-.4-.92-.59-1.43-.59-.52 0-1.04.2-1.43.59L10.3 9.45l-7.72 7.72c-.78.78-.78 2.05 0 2.83L4 21.41c.39.39.9.59 1.41.59.51 0 1.02-.2 1.41-.59l7.78-7.78 2.81-2.81c.8-.78.8-2.07 0-2.86zM5.41 20L4 18.59l7.72-7.72 1.47 1.35L5.41 20z\"/>\n",
              "  </svg>\n",
              "      </button>\n",
              "      \n",
              "  <style>\n",
              "    .colab-df-container {\n",
              "      display:flex;\n",
              "      flex-wrap:wrap;\n",
              "      gap: 12px;\n",
              "    }\n",
              "\n",
              "    .colab-df-convert {\n",
              "      background-color: #E8F0FE;\n",
              "      border: none;\n",
              "      border-radius: 50%;\n",
              "      cursor: pointer;\n",
              "      display: none;\n",
              "      fill: #1967D2;\n",
              "      height: 32px;\n",
              "      padding: 0 0 0 0;\n",
              "      width: 32px;\n",
              "    }\n",
              "\n",
              "    .colab-df-convert:hover {\n",
              "      background-color: #E2EBFA;\n",
              "      box-shadow: 0px 1px 2px rgba(60, 64, 67, 0.3), 0px 1px 3px 1px rgba(60, 64, 67, 0.15);\n",
              "      fill: #174EA6;\n",
              "    }\n",
              "\n",
              "    [theme=dark] .colab-df-convert {\n",
              "      background-color: #3B4455;\n",
              "      fill: #D2E3FC;\n",
              "    }\n",
              "\n",
              "    [theme=dark] .colab-df-convert:hover {\n",
              "      background-color: #434B5C;\n",
              "      box-shadow: 0px 1px 3px 1px rgba(0, 0, 0, 0.15);\n",
              "      filter: drop-shadow(0px 1px 2px rgba(0, 0, 0, 0.3));\n",
              "      fill: #FFFFFF;\n",
              "    }\n",
              "  </style>\n",
              "\n",
              "      <script>\n",
              "        const buttonEl =\n",
              "          document.querySelector('#df-9cf90066-b6bd-429d-9f5e-806a6aad4855 button.colab-df-convert');\n",
              "        buttonEl.style.display =\n",
              "          google.colab.kernel.accessAllowed ? 'block' : 'none';\n",
              "\n",
              "        async function convertToInteractive(key) {\n",
              "          const element = document.querySelector('#df-9cf90066-b6bd-429d-9f5e-806a6aad4855');\n",
              "          const dataTable =\n",
              "            await google.colab.kernel.invokeFunction('convertToInteractive',\n",
              "                                                     [key], {});\n",
              "          if (!dataTable) return;\n",
              "\n",
              "          const docLinkHtml = 'Like what you see? Visit the ' +\n",
              "            '<a target=\"_blank\" href=https://colab.research.google.com/notebooks/data_table.ipynb>data table notebook</a>'\n",
              "            + ' to learn more about interactive tables.';\n",
              "          element.innerHTML = '';\n",
              "          dataTable['output_type'] = 'display_data';\n",
              "          await google.colab.output.renderOutput(dataTable, element);\n",
              "          const docLink = document.createElement('div');\n",
              "          docLink.innerHTML = docLinkHtml;\n",
              "          element.appendChild(docLink);\n",
              "        }\n",
              "      </script>\n",
              "    </div>\n",
              "  </div>\n",
              "  "
            ],
            "text/plain": [
              "       Pregnancies     Glucose  ...         Age     Outcome\n",
              "count   768.000000  768.000000  ...  768.000000  768.000000\n",
              "mean      3.845052  120.894531  ...   33.240885    0.348958\n",
              "std       3.369578   31.972618  ...   11.760232    0.476951\n",
              "min       0.000000    0.000000  ...   21.000000    0.000000\n",
              "25%       1.000000   99.000000  ...   24.000000    0.000000\n",
              "50%       3.000000  117.000000  ...   29.000000    0.000000\n",
              "75%       6.000000  140.250000  ...   41.000000    1.000000\n",
              "max      17.000000  199.000000  ...   81.000000    1.000000\n",
              "\n",
              "[8 rows x 9 columns]"
            ]
          },
          "metadata": {},
          "execution_count": 9
        }
      ]
    },
    {
      "cell_type": "markdown",
      "source": [
        "### **CONCLUSION** :- We observe that min value of some columns is 0 which cannot be possible medically.Hence in the data cleaning process we'll have to replace them with median/mean value depending on the distribution. Also in the max column we can see insulin levels as high as 846! We have to treat outliers."
      ],
      "metadata": {
        "id": "eZw3TmaROUev"
      }
    },
    {
      "cell_type": "markdown",
      "source": [
        "## b. Data Cleaning\n",
        "- Dropping duplicate values\n",
        "- Checking NULL values\n",
        "- Checking for 0 value and replacing it :- It isn't medically possible for some data record to have 0 value such as Blood Pressure or Glucose levels. Hence we replace them with the mean value of that particular column.\n"
      ],
      "metadata": {
        "id": "09SY6fVbOUew"
      }
    },
    {
      "cell_type": "code",
      "source": [
        "#dropping duplicate values - checking if there are any duplicate rows and dropping if any\n",
        "df=df.drop_duplicates()"
      ],
      "metadata": {
        "execution": {
          "iopub.status.busy": "2022-01-16T17:05:07.928810Z",
          "iopub.execute_input": "2022-01-16T17:05:07.929111Z",
          "iopub.status.idle": "2022-01-16T17:05:07.935500Z",
          "shell.execute_reply.started": "2022-01-16T17:05:07.929080Z",
          "shell.execute_reply": "2022-01-16T17:05:07.934511Z"
        },
        "trusted": true,
        "id": "ubWvNAWPOUew"
      },
      "execution_count": null,
      "outputs": []
    },
    {
      "cell_type": "code",
      "source": [
        "#check for missing values, count them and print the sum for every column\n",
        "df.isnull().sum() #conclusion :- there are no null values in this dataset"
      ],
      "metadata": {
        "execution": {
          "iopub.status.busy": "2022-01-16T17:05:07.936901Z",
          "iopub.execute_input": "2022-01-16T17:05:07.937395Z",
          "iopub.status.idle": "2022-01-16T17:05:07.948846Z",
          "shell.execute_reply.started": "2022-01-16T17:05:07.937343Z",
          "shell.execute_reply": "2022-01-16T17:05:07.948184Z"
        },
        "trusted": true,
        "colab": {
          "base_uri": "https://localhost:8080/"
        },
        "id": "uYNpJpTdOUew",
        "outputId": "ed7162e5-c1f3-4685-fc2f-85072987e859"
      },
      "execution_count": null,
      "outputs": [
        {
          "output_type": "execute_result",
          "data": {
            "text/plain": [
              "Pregnancies                 0\n",
              "Glucose                     0\n",
              "BloodPressure               0\n",
              "SkinThickness               0\n",
              "Insulin                     0\n",
              "BMI                         0\n",
              "DiabetesPedigreeFunction    0\n",
              "Age                         0\n",
              "Outcome                     0\n",
              "dtype: int64"
            ]
          },
          "metadata": {},
          "execution_count": 11
        }
      ]
    },
    {
      "cell_type": "code",
      "source": [
        "#checking for 0 values in 5 columns , Age & DiabetesPedigreeFunction do not have have minimum 0 value so no need to replace , also no. of pregnancies as 0 is possible as observed in df.describe\n",
        "print(df[df['BloodPressure']==0].shape[0])\n",
        "print(df[df['Glucose']==0].shape[0])\n",
        "print(df[df['SkinThickness']==0].shape[0])\n",
        "print(df[df['Insulin']==0].shape[0])\n",
        "print(df[df['BMI']==0].shape[0])"
      ],
      "metadata": {
        "execution": {
          "iopub.status.busy": "2022-01-16T17:05:07.949932Z",
          "iopub.execute_input": "2022-01-16T17:05:07.950522Z",
          "iopub.status.idle": "2022-01-16T17:05:07.960035Z",
          "shell.execute_reply.started": "2022-01-16T17:05:07.950493Z",
          "shell.execute_reply": "2022-01-16T17:05:07.959432Z"
        },
        "trusted": true,
        "colab": {
          "base_uri": "https://localhost:8080/"
        },
        "id": "HDqtmYHPOUex",
        "outputId": "2a87d659-0357-4dc9-94bf-9ba7dba5136a"
      },
      "execution_count": null,
      "outputs": [
        {
          "output_type": "stream",
          "name": "stdout",
          "text": [
            "35\n",
            "5\n",
            "227\n",
            "374\n",
            "11\n"
          ]
        }
      ]
    },
    {
      "cell_type": "markdown",
      "source": [
        "### NOTE :-\n",
        "Some of the columns have a skewed distribution, so the mean is more affected by outliers than the median. Glucose and Blood Pressure have normal distributions hence we replace 0 values in those columns by mean value. SkinThickness, Insulin,BMI have skewed distributions hence median is a better choice as it is less affected by outliers.\n",
        "\n",
        "Refer Histograms down below to see the distribution.\n",
        "\n",
        "\n"
      ],
      "metadata": {
        "id": "Zezblf-8OUex"
      }
    },
    {
      "cell_type": "code",
      "source": [
        "#replacing 0 values with median of that column\n",
        "df['Glucose']=df['Glucose'].replace(0,df['Glucose'].mean())#normal distribution\n",
        "df['BloodPressure']=df['BloodPressure'].replace(0,df['BloodPressure'].mean())#normal distribution\n",
        "df['SkinThickness']=df['SkinThickness'].replace(0,df['SkinThickness'].median())#skewed distribution\n",
        "df['Insulin']=df['Insulin'].replace(0,df['Insulin'].median())#skewed distribution\n",
        "df['BMI']=df['BMI'].replace(0,df['BMI'].median())#skewed distribution"
      ],
      "metadata": {
        "execution": {
          "iopub.status.busy": "2022-01-16T17:05:07.961069Z",
          "iopub.execute_input": "2022-01-16T17:05:07.961600Z",
          "iopub.status.idle": "2022-01-16T17:05:07.973584Z",
          "shell.execute_reply.started": "2022-01-16T17:05:07.961565Z",
          "shell.execute_reply": "2022-01-16T17:05:07.972776Z"
        },
        "trusted": true,
        "id": "Vy9MOV4NOUey"
      },
      "execution_count": null,
      "outputs": []
    },
    {
      "cell_type": "markdown",
      "source": [
        "# 4. Data Visualization\n",
        "## Here we are going to plot :-\n",
        "- Count Plot :- to see if the dataset is balanced or not\n",
        "- Histograms :- to see if data is normally distributed or skewed\n",
        "- Box Plot :- to analyse the distribution and see the outliers\n",
        "- Scatter plots :- to understand relationship between any two variables\n",
        "- Pair plot :- to create scatter plot between all the variables"
      ],
      "metadata": {
        "id": "NYnPay_AOUey"
      }
    },
    {
      "cell_type": "code",
      "source": [
        "sns.countplot('Outcome',data=df)"
      ],
      "metadata": {
        "execution": {
          "iopub.status.busy": "2022-01-16T17:05:07.974733Z",
          "iopub.execute_input": "2022-01-16T17:05:07.975287Z",
          "iopub.status.idle": "2022-01-16T17:05:08.157508Z",
          "shell.execute_reply.started": "2022-01-16T17:05:07.975253Z",
          "shell.execute_reply": "2022-01-16T17:05:08.156969Z"
        },
        "trusted": true,
        "colab": {
          "base_uri": "https://localhost:8080/",
          "height": 296
        },
        "id": "uExxT872OUey",
        "outputId": "c8f31b14-fca8-421c-dae9-d328cd96583a"
      },
      "execution_count": null,
      "outputs": [
        {
          "output_type": "execute_result",
          "data": {
            "text/plain": [
              "<matplotlib.axes._subplots.AxesSubplot at 0x7f84ee0f9790>"
            ]
          },
          "metadata": {},
          "execution_count": 14
        },
        {
          "output_type": "display_data",
          "data": {
            "image/png": "[encoded data removed]",
            "text/plain": [
              "<Figure size 432x288 with 1 Axes>"
            ]
          },
          "metadata": {
            "needs_background": "light"
          }
        }
      ]
    },
    {
      "cell_type": "markdown",
      "source": [
        "### **Conclusion** :- We observe that number of people who do not have diabetes is far more than people who do which indicates that our data is imbalanced."
      ],
      "metadata": {
        "id": "pRpZfKueOUez"
      }
    },
    {
      "cell_type": "code",
      "source": [
        "#histogram for each  feature\n",
        "df.hist(bins=10,figsize=(10,10))\n",
        "plt.show()"
      ],
      "metadata": {
        "execution": {
          "iopub.status.busy": "2022-01-16T17:05:08.158471Z",
          "iopub.execute_input": "2022-01-16T17:05:08.158773Z",
          "iopub.status.idle": "2022-01-16T17:05:09.785538Z",
          "shell.execute_reply.started": "2022-01-16T17:05:08.158748Z",
          "shell.execute_reply": "2022-01-16T17:05:09.784880Z"
        },
        "trusted": true,
        "colab": {
          "base_uri": "https://localhost:8080/",
          "height": 607
        },
        "id": "1N42N2kHOUez",
        "outputId": "31f6ad17-7868-4898-b8e3-de04cbc8bbba"
      },
      "execution_count": null,
      "outputs": [
        {
          "output_type": "display_data",
          "data": {
            "image/png": "[encoded data removed]",
            "text/plain": [
              "<Figure size 720x720 with 9 Axes>"
            ]
          },
          "metadata": {
            "needs_background": "light"
          }
        }
      ]
    },
    {
      "cell_type": "markdown",
      "source": [
        "### **Conclusion** :- We observe that only glucose and Blood Pressure are normally distributed rest others are skewed and have outliers"
      ],
      "metadata": {
        "id": "CgerMJU_OUez"
      }
    },
    {
      "cell_type": "code",
      "source": [
        "plt.figure(figsize=(16,12))\n",
        "sns.set_style(style='whitegrid')\n",
        "plt.subplot(3,3,1)\n",
        "sns.boxplot(x='Glucose',data=df)\n",
        "plt.subplot(3,3,2)\n",
        "sns.boxplot(x='BloodPressure',data=df)\n",
        "plt.subplot(3,3,3)\n",
        "sns.boxplot(x='Insulin',data=df)\n",
        "plt.subplot(3,3,4)\n",
        "sns.boxplot(x='BMI',data=df)\n",
        "plt.subplot(3,3,5)\n",
        "sns.boxplot(x='Age',data=df)\n",
        "plt.subplot(3,3,6)\n",
        "sns.boxplot(x='SkinThickness',data=df)\n",
        "plt.subplot(3,3,7)\n",
        "sns.boxplot(x='Pregnancies',data=df)\n",
        "plt.subplot(3,3,8)\n",
        "sns.boxplot(x='DiabetesPedigreeFunction',data=df)"
      ],
      "metadata": {
        "execution": {
          "iopub.status.busy": "2022-01-16T17:05:09.786493Z",
          "iopub.execute_input": "2022-01-16T17:05:09.787233Z",
          "iopub.status.idle": "2022-01-16T17:05:11.007838Z",
          "shell.execute_reply.started": "2022-01-16T17:05:09.787194Z",
          "shell.execute_reply": "2022-01-16T17:05:11.007289Z"
        },
        "trusted": true,
        "colab": {
          "base_uri": "https://localhost:8080/",
          "height": 731
        },
        "id": "aiZuxsNOOUez",
        "outputId": "2a02e441-d599-45d4-fc47-4b81df9b1e83"
      },
      "execution_count": null,
      "outputs": [
        {
          "output_type": "execute_result",
          "data": {
            "text/plain": [
              "<matplotlib.axes._subplots.AxesSubplot at 0x7f84ecca1b90>"
            ]
          },
          "metadata": {},
          "execution_count": 16
        },
        {
          "output_type": "display_data",
          "data": {
            "image/png": "[encoded data removed]",
            "text/plain": [
              "<Figure size 1152x864 with 8 Axes>"
            ]
          },
          "metadata": {
            "needs_background": "light"
          }
        }
      ]
    },
    {
      "cell_type": "markdown",
      "source": [
        "Outliers are unusual values in your dataset, and they can distort statistical analyses and violate their assumptions. Hence it is of utmost importance to deal with them. In this case removing outliers can cause data loss so we have to deal with it using various scaling and transformation techniques."
      ],
      "metadata": {
        "id": "ofXhXvesOUe0"
      }
    },
    {
      "cell_type": "markdown",
      "source": [
        "# 5. Feature Selection"
      ],
      "metadata": {
        "id": "2vzjR_0FOUe0"
      }
    },
    {
      "cell_type": "markdown",
      "source": [
        "**Pearson's Correlation Coefficient** : Helps you find out the relationship between two quantities. It gives you the measure of the strength of association between two variables. The value of Pearson's Correlation Coefficient can be between -1 to +1. 1 means that they are highly correlated and 0 means no correlation.\n",
        "\n",
        "A heat map is a two-dimensional representation of information with the help of colors. Heat maps can help the user visualize simple or complex information."
      ],
      "metadata": {
        "id": "K0275D2dOUe0"
      }
    },
    {
      "cell_type": "code",
      "source": [
        "corrmat=df.corr()\n",
        "sns.heatmap(corrmat, annot=True)"
      ],
      "metadata": {
        "execution": {
          "iopub.status.busy": "2022-01-16T17:05:11.008891Z",
          "iopub.execute_input": "2022-01-16T17:05:11.009400Z",
          "iopub.status.idle": "2022-01-16T17:05:11.731547Z",
          "shell.execute_reply.started": "2022-01-16T17:05:11.009364Z",
          "shell.execute_reply": "2022-01-16T17:05:11.730747Z"
        },
        "trusted": true,
        "colab": {
          "base_uri": "https://localhost:8080/",
          "height": 407
        },
        "id": "U7bIVSspOUe0",
        "outputId": "5031a19e-2795-4a2d-ebda-6c236e4658c6"
      },
      "execution_count": null,
      "outputs": [
        {
          "output_type": "execute_result",
          "data": {
            "text/plain": [
              "<matplotlib.axes._subplots.AxesSubplot at 0x7f84eceacf50>"
            ]
          },
          "metadata": {},
          "execution_count": 17
        },
        {
          "output_type": "display_data",
          "data": {
            "image/png": "[encoded data removed]",
            "text/plain": [
              "<Figure size 432x288 with 2 Axes>"
            ]
          },
          "metadata": {}
        }
      ]
    },
    {
      "cell_type": "markdown",
      "source": [
        "### **CONCLUSION** :- Observe the last row 'Outcome' and note its correlation scores with different features. We can observe that Glucose, BMI and Age are the most correlated with Outcome. BloodPressure, Insulin, DiabetesPedigreeFunction are the least correlated, hence they don't contribute much to the model so we can drop them. "
      ],
      "metadata": {
        "id": "Vg3FpzMTOUe1"
      }
    },
    {
      "cell_type": "code",
      "source": [
        "df_selected=df.drop(['BloodPressure','Insulin','DiabetesPedigreeFunction'],axis='columns')"
      ],
      "metadata": {
        "execution": {
          "iopub.status.busy": "2022-01-16T17:05:11.732558Z",
          "iopub.execute_input": "2022-01-16T17:05:11.732785Z",
          "iopub.status.idle": "2022-01-16T17:05:11.737663Z",
          "shell.execute_reply.started": "2022-01-16T17:05:11.732759Z",
          "shell.execute_reply": "2022-01-16T17:05:11.736948Z"
        },
        "trusted": true,
        "id": "-SMeZPAVOUe1"
      },
      "execution_count": null,
      "outputs": []
    },
    {
      "cell_type": "markdown",
      "source": [
        "# 6. Handling Outliers "
      ],
      "metadata": {
        "id": "2T0wx50UOUe1"
      }
    },
    {
      "cell_type": "markdown",
      "source": [
        "**1 — What is an Outlier?**\n",
        "\n",
        "An outlier is a data point in a data set that is distant from all other observations.\n",
        "\n",
        "I've used Box Plots above in data visualization step to detect outliers.\n",
        "\n",
        "**2 — How am I treating the outliers ?**\n",
        "\n",
        "Quantile Transformer :- This method transforms the features to follow a uniform or a normal distribution. Therefore, for a given feature, this transformation tends to spread out the most frequent values. It also reduces the impact of (marginal) outliers: this is therefore a robust preprocessing scheme. "
      ],
      "metadata": {
        "id": "Xhh1NvBKOUe1"
      }
    },
    {
      "cell_type": "code",
      "source": [
        "from sklearn.preprocessing import QuantileTransformer\n",
        "x=df_selected\n",
        "quantile  = QuantileTransformer()\n",
        "X = quantile.fit_transform(x)\n",
        "df_new=quantile.transform(X)\n",
        "df_new=pd.DataFrame(X)\n",
        "df_new.columns =['Pregnancies', 'Glucose','SkinThickness','BMI','Age','Outcome']\n",
        "df_new.head()"
      ],
      "metadata": {
        "execution": {
          "iopub.status.busy": "2022-01-16T17:05:11.738870Z",
          "iopub.execute_input": "2022-01-16T17:05:11.739126Z",
          "iopub.status.idle": "2022-01-16T17:05:11.768915Z",
          "shell.execute_reply.started": "2022-01-16T17:05:11.739090Z",
          "shell.execute_reply": "2022-01-16T17:05:11.768104Z"
        },
        "trusted": true,
        "colab": {
          "base_uri": "https://localhost:8080/",
          "height": 206
        },
        "id": "ljjw-D_TOUe2",
        "outputId": "da4adb98-0478-46f9-d20c-a19cfe51bd67"
      },
      "execution_count": null,
      "outputs": [
        {
          "output_type": "execute_result",
          "data": {
            "text/html": [
              "\n",
              "  <div id=\"df-45db9a23-bf98-4e2f-9c4c-32be7e674953\">\n",
              "    <div class=\"colab-df-container\">\n",
              "      <div>\n",
              "<style scoped>\n",
              "    .dataframe tbody tr th:only-of-type {\n",
              "        vertical-align: middle;\n",
              "    }\n",
              "\n",
              "    .dataframe tbody tr th {\n",
              "        vertical-align: top;\n",
              "    }\n",
              "\n",
              "    .dataframe thead th {\n",
              "        text-align: right;\n",
              "    }\n",
              "</style>\n",
              "<table border=\"1\" class=\"dataframe\">\n",
              "  <thead>\n",
              "    <tr style=\"text-align: right;\">\n",
              "      <th></th>\n",
              "      <th>Pregnancies</th>\n",
              "      <th>Glucose</th>\n",
              "      <th>SkinThickness</th>\n",
              "      <th>BMI</th>\n",
              "      <th>Age</th>\n",
              "      <th>Outcome</th>\n",
              "    </tr>\n",
              "  </thead>\n",
              "  <tbody>\n",
              "    <tr>\n",
              "      <th>0</th>\n",
              "      <td>0.747718</td>\n",
              "      <td>0.810300</td>\n",
              "      <td>0.801825</td>\n",
              "      <td>0.591265</td>\n",
              "      <td>0.889831</td>\n",
              "      <td>1.0</td>\n",
              "    </tr>\n",
              "    <tr>\n",
              "      <th>1</th>\n",
              "      <td>0.232725</td>\n",
              "      <td>0.091265</td>\n",
              "      <td>0.644720</td>\n",
              "      <td>0.213168</td>\n",
              "      <td>0.558670</td>\n",
              "      <td>0.0</td>\n",
              "    </tr>\n",
              "    <tr>\n",
              "      <th>2</th>\n",
              "      <td>0.863755</td>\n",
              "      <td>0.956975</td>\n",
              "      <td>0.357888</td>\n",
              "      <td>0.077575</td>\n",
              "      <td>0.585398</td>\n",
              "      <td>1.0</td>\n",
              "    </tr>\n",
              "    <tr>\n",
              "      <th>3</th>\n",
              "      <td>0.232725</td>\n",
              "      <td>0.124511</td>\n",
              "      <td>0.357888</td>\n",
              "      <td>0.284224</td>\n",
              "      <td>0.000000</td>\n",
              "      <td>0.0</td>\n",
              "    </tr>\n",
              "    <tr>\n",
              "      <th>4</th>\n",
              "      <td>0.000000</td>\n",
              "      <td>0.721643</td>\n",
              "      <td>0.801825</td>\n",
              "      <td>0.926988</td>\n",
              "      <td>0.606258</td>\n",
              "      <td>1.0</td>\n",
              "    </tr>\n",
              "  </tbody>\n",
              "</table>\n",
              "</div>\n",
              "      <button class=\"colab-df-convert\" onclick=\"convertToInteractive('df-45db9a23-bf98-4e2f-9c4c-32be7e674953')\"\n",
              "              title=\"Convert this dataframe to an interactive table.\"\n",
              "              style=\"display:none;\">\n",
              "        \n",
              "  <svg xmlns=\"http://www.w3.org/2000/svg\" height=\"24px\"viewBox=\"0 0 24 24\"\n",
              "       width=\"24px\">\n",
              "    <path d=\"M0 0h24v24H0V0z\" fill=\"none\"/>\n",
              "    <path d=\"M18.56 5.44l.94 2.06.94-2.06 2.06-.94-2.06-.94-.94-2.06-.94 2.06-2.06.94zm-11 1L8.5 8.5l.94-2.06 2.06-.94-2.06-.94L8.5 2.5l-.94 2.06-2.06.94zm10 10l.94 2.06.94-2.06 2.06-.94-2.06-.94-.94-2.06-.94 2.06-2.06.94z\"/><path d=\"M17.41 7.96l-1.37-1.37c-.4-.4-.92-.59-1.43-.59-.52 0-1.04.2-1.43.59L10.3 9.45l-7.72 7.72c-.78.78-.78 2.05 0 2.83L4 21.41c.39.39.9.59 1.41.59.51 0 1.02-.2 1.41-.59l7.78-7.78 2.81-2.81c.8-.78.8-2.07 0-2.86zM5.41 20L4 18.59l7.72-7.72 1.47 1.35L5.41 20z\"/>\n",
              "  </svg>\n",
              "      </button>\n",
              "      \n",
              "  <style>\n",
              "    .colab-df-container {\n",
              "      display:flex;\n",
              "      flex-wrap:wrap;\n",
              "      gap: 12px;\n",
              "    }\n",
              "\n",
              "    .colab-df-convert {\n",
              "      background-color: #E8F0FE;\n",
              "      border: none;\n",
              "      border-radius: 50%;\n",
              "      cursor: pointer;\n",
              "      display: none;\n",
              "      fill: #1967D2;\n",
              "      height: 32px;\n",
              "      padding: 0 0 0 0;\n",
              "      width: 32px;\n",
              "    }\n",
              "\n",
              "    .colab-df-convert:hover {\n",
              "      background-color: #E2EBFA;\n",
              "      box-shadow: 0px 1px 2px rgba(60, 64, 67, 0.3), 0px 1px 3px 1px rgba(60, 64, 67, 0.15);\n",
              "      fill: #174EA6;\n",
              "    }\n",
              "\n",
              "    [theme=dark] .colab-df-convert {\n",
              "      background-color: #3B4455;\n",
              "      fill: #D2E3FC;\n",
              "    }\n",
              "\n",
              "    [theme=dark] .colab-df-convert:hover {\n",
              "      background-color: #434B5C;\n",
              "      box-shadow: 0px 1px 3px 1px rgba(0, 0, 0, 0.15);\n",
              "      filter: drop-shadow(0px 1px 2px rgba(0, 0, 0, 0.3));\n",
              "      fill: #FFFFFF;\n",
              "    }\n",
              "  </style>\n",
              "\n",
              "      <script>\n",
              "        const buttonEl =\n",
              "          document.querySelector('#df-45db9a23-bf98-4e2f-9c4c-32be7e674953 button.colab-df-convert');\n",
              "        buttonEl.style.display =\n",
              "          google.colab.kernel.accessAllowed ? 'block' : 'none';\n",
              "\n",
              "        async function convertToInteractive(key) {\n",
              "          const element = document.querySelector('#df-45db9a23-bf98-4e2f-9c4c-32be7e674953');\n",
              "          const dataTable =\n",
              "            await google.colab.kernel.invokeFunction('convertToInteractive',\n",
              "                                                     [key], {});\n",
              "          if (!dataTable) return;\n",
              "\n",
              "          const docLinkHtml = 'Like what you see? Visit the ' +\n",
              "            '<a target=\"_blank\" href=https://colab.research.google.com/notebooks/data_table.ipynb>data table notebook</a>'\n",
              "            + ' to learn more about interactive tables.';\n",
              "          element.innerHTML = '';\n",
              "          dataTable['output_type'] = 'display_data';\n",
              "          await google.colab.output.renderOutput(dataTable, element);\n",
              "          const docLink = document.createElement('div');\n",
              "          docLink.innerHTML = docLinkHtml;\n",
              "          element.appendChild(docLink);\n",
              "        }\n",
              "      </script>\n",
              "    </div>\n",
              "  </div>\n",
              "  "
            ],
            "text/plain": [
              "   Pregnancies   Glucose  SkinThickness       BMI       Age  Outcome\n",
              "0     0.747718  0.810300       0.801825  0.591265  0.889831      1.0\n",
              "1     0.232725  0.091265       0.644720  0.213168  0.558670      0.0\n",
              "2     0.863755  0.956975       0.357888  0.077575  0.585398      1.0\n",
              "3     0.232725  0.124511       0.357888  0.284224  0.000000      0.0\n",
              "4     0.000000  0.721643       0.801825  0.926988  0.606258      1.0"
            ]
          },
          "metadata": {},
          "execution_count": 19
        }
      ]
    },
    {
      "cell_type": "code",
      "source": [
        "plt.figure(figsize=(16,12))\n",
        "sns.set_style(style='whitegrid')\n",
        "plt.subplot(3,3,1)\n",
        "sns.boxplot(x=df_new['Glucose'],data=df_new)\n",
        "plt.subplot(3,3,2)\n",
        "sns.boxplot(x=df_new['BMI'],data=df_new)\n",
        "plt.subplot(3,3,3)\n",
        "sns.boxplot(x=df_new['Pregnancies'],data=df_new)\n",
        "plt.subplot(3,3,4)\n",
        "sns.boxplot(x=df_new['Age'],data=df_new)\n",
        "plt.subplot(3,3,5)\n",
        "sns.boxplot(x=df_new['SkinThickness'],data=df_new)"
      ],
      "metadata": {
        "execution": {
          "iopub.status.busy": "2022-01-16T17:05:11.770363Z",
          "iopub.execute_input": "2022-01-16T17:05:11.770653Z",
          "iopub.status.idle": "2022-01-16T17:05:12.504490Z",
          "shell.execute_reply.started": "2022-01-16T17:05:11.770614Z",
          "shell.execute_reply": "2022-01-16T17:05:12.503698Z"
        },
        "trusted": true,
        "colab": {
          "base_uri": "https://localhost:8080/",
          "height": 501
        },
        "id": "DmQ9c5U1OUe3",
        "outputId": "825716d2-d75e-4617-ef72-9c4d61deef6a"
      },
      "execution_count": null,
      "outputs": [
        {
          "output_type": "execute_result",
          "data": {
            "text/plain": [
              "<matplotlib.axes._subplots.AxesSubplot at 0x7f84ed1d8b50>"
            ]
          },
          "metadata": {},
          "execution_count": 20
        },
        {
          "output_type": "display_data",
          "data": {
            "image/png": "[encoded data removed]",
            "text/plain": [
              "<Figure size 1152x864 with 5 Axes>"
            ]
          },
          "metadata": {}
        }
      ]
    },
    {
      "cell_type": "markdown",
      "source": [
        "# 7. Split the Data Frame into X and y"
      ],
      "metadata": {
        "id": "jgp6ZD-wOUe3"
      }
    },
    {
      "cell_type": "code",
      "source": [
        "target_name='Outcome'\n",
        "y= df_new[target_name]#given predictions - training data \n",
        "X=df_new.drop(target_name,axis=1)#dropping the Outcome column and keeping all other columns as X"
      ],
      "metadata": {
        "execution": {
          "iopub.status.busy": "2022-01-16T17:05:12.505725Z",
          "iopub.execute_input": "2022-01-16T17:05:12.506408Z",
          "iopub.status.idle": "2022-01-16T17:05:12.512656Z",
          "shell.execute_reply.started": "2022-01-16T17:05:12.506374Z",
          "shell.execute_reply": "2022-01-16T17:05:12.511862Z"
        },
        "trusted": true,
        "id": "lLMDoFQeOUe3"
      },
      "execution_count": null,
      "outputs": []
    },
    {
      "cell_type": "code",
      "source": [
        "X.head() # contains only independent features "
      ],
      "metadata": {
        "execution": {
          "iopub.status.busy": "2022-01-16T17:05:12.513902Z",
          "iopub.execute_input": "2022-01-16T17:05:12.514149Z",
          "iopub.status.idle": "2022-01-16T17:05:12.531904Z",
          "shell.execute_reply.started": "2022-01-16T17:05:12.514121Z",
          "shell.execute_reply": "2022-01-16T17:05:12.531309Z"
        },
        "trusted": true,
        "colab": {
          "base_uri": "https://localhost:8080/",
          "height": 206
        },
        "id": "y7CS1VUsOUe4",
        "outputId": "d8bac63b-e219-4ed3-f1db-0f2859dbcb8b"
      },
      "execution_count": null,
      "outputs": [
        {
          "output_type": "execute_result",
          "data": {
            "text/html": [
              "\n",
              "  <div id=\"df-e81e5e2f-05e8-46c0-a9b1-62861765c47a\">\n",
              "    <div class=\"colab-df-container\">\n",
              "      <div>\n",
              "<style scoped>\n",
              "    .dataframe tbody tr th:only-of-type {\n",
              "        vertical-align: middle;\n",
              "    }\n",
              "\n",
              "    .dataframe tbody tr th {\n",
              "        vertical-align: top;\n",
              "    }\n",
              "\n",
              "    .dataframe thead th {\n",
              "        text-align: right;\n",
              "    }\n",
              "</style>\n",
              "<table border=\"1\" class=\"dataframe\">\n",
              "  <thead>\n",
              "    <tr style=\"text-align: right;\">\n",
              "      <th></th>\n",
              "      <th>Pregnancies</th>\n",
              "      <th>Glucose</th>\n",
              "      <th>SkinThickness</th>\n",
              "      <th>BMI</th>\n",
              "      <th>Age</th>\n",
              "    </tr>\n",
              "  </thead>\n",
              "  <tbody>\n",
              "    <tr>\n",
              "      <th>0</th>\n",
              "      <td>0.747718</td>\n",
              "      <td>0.810300</td>\n",
              "      <td>0.801825</td>\n",
              "      <td>0.591265</td>\n",
              "      <td>0.889831</td>\n",
              "    </tr>\n",
              "    <tr>\n",
              "      <th>1</th>\n",
              "      <td>0.232725</td>\n",
              "      <td>0.091265</td>\n",
              "      <td>0.644720</td>\n",
              "      <td>0.213168</td>\n",
              "      <td>0.558670</td>\n",
              "    </tr>\n",
              "    <tr>\n",
              "      <th>2</th>\n",
              "      <td>0.863755</td>\n",
              "      <td>0.956975</td>\n",
              "      <td>0.357888</td>\n",
              "      <td>0.077575</td>\n",
              "      <td>0.585398</td>\n",
              "    </tr>\n",
              "    <tr>\n",
              "      <th>3</th>\n",
              "      <td>0.232725</td>\n",
              "      <td>0.124511</td>\n",
              "      <td>0.357888</td>\n",
              "      <td>0.284224</td>\n",
              "      <td>0.000000</td>\n",
              "    </tr>\n",
              "    <tr>\n",
              "      <th>4</th>\n",
              "      <td>0.000000</td>\n",
              "      <td>0.721643</td>\n",
              "      <td>0.801825</td>\n",
              "      <td>0.926988</td>\n",
              "      <td>0.606258</td>\n",
              "    </tr>\n",
              "  </tbody>\n",
              "</table>\n",
              "</div>\n",
              "      <button class=\"colab-df-convert\" onclick=\"convertToInteractive('df-e81e5e2f-05e8-46c0-a9b1-62861765c47a')\"\n",
              "              title=\"Convert this dataframe to an interactive table.\"\n",
              "              style=\"display:none;\">\n",
              "        \n",
              "  <svg xmlns=\"http://www.w3.org/2000/svg\" height=\"24px\"viewBox=\"0 0 24 24\"\n",
              "       width=\"24px\">\n",
              "    <path d=\"M0 0h24v24H0V0z\" fill=\"none\"/>\n",
              "    <path d=\"M18.56 5.44l.94 2.06.94-2.06 2.06-.94-2.06-.94-.94-2.06-.94 2.06-2.06.94zm-11 1L8.5 8.5l.94-2.06 2.06-.94-2.06-.94L8.5 2.5l-.94 2.06-2.06.94zm10 10l.94 2.06.94-2.06 2.06-.94-2.06-.94-.94-2.06-.94 2.06-2.06.94z\"/><path d=\"M17.41 7.96l-1.37-1.37c-.4-.4-.92-.59-1.43-.59-.52 0-1.04.2-1.43.59L10.3 9.45l-7.72 7.72c-.78.78-.78 2.05 0 2.83L4 21.41c.39.39.9.59 1.41.59.51 0 1.02-.2 1.41-.59l7.78-7.78 2.81-2.81c.8-.78.8-2.07 0-2.86zM5.41 20L4 18.59l7.72-7.72 1.47 1.35L5.41 20z\"/>\n",
              "  </svg>\n",
              "      </button>\n",
              "      \n",
              "  <style>\n",
              "    .colab-df-container {\n",
              "      display:flex;\n",
              "      flex-wrap:wrap;\n",
              "      gap: 12px;\n",
              "    }\n",
              "\n",
              "    .colab-df-convert {\n",
              "      background-color: #E8F0FE;\n",
              "      border: none;\n",
              "      border-radius: 50%;\n",
              "      cursor: pointer;\n",
              "      display: none;\n",
              "      fill: #1967D2;\n",
              "      height: 32px;\n",
              "      padding: 0 0 0 0;\n",
              "      width: 32px;\n",
              "    }\n",
              "\n",
              "    .colab-df-convert:hover {\n",
              "      background-color: #E2EBFA;\n",
              "      box-shadow: 0px 1px 2px rgba(60, 64, 67, 0.3), 0px 1px 3px 1px rgba(60, 64, 67, 0.15);\n",
              "      fill: #174EA6;\n",
              "    }\n",
              "\n",
              "    [theme=dark] .colab-df-convert {\n",
              "      background-color: #3B4455;\n",
              "      fill: #D2E3FC;\n",
              "    }\n",
              "\n",
              "    [theme=dark] .colab-df-convert:hover {\n",
              "      background-color: #434B5C;\n",
              "      box-shadow: 0px 1px 3px 1px rgba(0, 0, 0, 0.15);\n",
              "      filter: drop-shadow(0px 1px 2px rgba(0, 0, 0, 0.3));\n",
              "      fill: #FFFFFF;\n",
              "    }\n",
              "  </style>\n",
              "\n",
              "      <script>\n",
              "        const buttonEl =\n",
              "          document.querySelector('#df-e81e5e2f-05e8-46c0-a9b1-62861765c47a button.colab-df-convert');\n",
              "        buttonEl.style.display =\n",
              "          google.colab.kernel.accessAllowed ? 'block' : 'none';\n",
              "\n",
              "        async function convertToInteractive(key) {\n",
              "          const element = document.querySelector('#df-e81e5e2f-05e8-46c0-a9b1-62861765c47a');\n",
              "          const dataTable =\n",
              "            await google.colab.kernel.invokeFunction('convertToInteractive',\n",
              "                                                     [key], {});\n",
              "          if (!dataTable) return;\n",
              "\n",
              "          const docLinkHtml = 'Like what you see? Visit the ' +\n",
              "            '<a target=\"_blank\" href=https://colab.research.google.com/notebooks/data_table.ipynb>data table notebook</a>'\n",
              "            + ' to learn more about interactive tables.';\n",
              "          element.innerHTML = '';\n",
              "          dataTable['output_type'] = 'display_data';\n",
              "          await google.colab.output.renderOutput(dataTable, element);\n",
              "          const docLink = document.createElement('div');\n",
              "          docLink.innerHTML = docLinkHtml;\n",
              "          element.appendChild(docLink);\n",
              "        }\n",
              "      </script>\n",
              "    </div>\n",
              "  </div>\n",
              "  "
            ],
            "text/plain": [
              "   Pregnancies   Glucose  SkinThickness       BMI       Age\n",
              "0     0.747718  0.810300       0.801825  0.591265  0.889831\n",
              "1     0.232725  0.091265       0.644720  0.213168  0.558670\n",
              "2     0.863755  0.956975       0.357888  0.077575  0.585398\n",
              "3     0.232725  0.124511       0.357888  0.284224  0.000000\n",
              "4     0.000000  0.721643       0.801825  0.926988  0.606258"
            ]
          },
          "metadata": {},
          "execution_count": 22
        }
      ]
    },
    {
      "cell_type": "code",
      "source": [
        "y.head() #contains dependent feature"
      ],
      "metadata": {
        "execution": {
          "iopub.status.busy": "2022-01-16T17:05:12.532844Z",
          "iopub.execute_input": "2022-01-16T17:05:12.533498Z",
          "iopub.status.idle": "2022-01-16T17:05:12.539577Z",
          "shell.execute_reply.started": "2022-01-16T17:05:12.533462Z",
          "shell.execute_reply": "2022-01-16T17:05:12.538802Z"
        },
        "trusted": true,
        "colab": {
          "base_uri": "https://localhost:8080/"
        },
        "id": "OOETDdzmOUe4",
        "outputId": "54683f94-6041-47bf-e013-2f486ec67d93"
      },
      "execution_count": null,
      "outputs": [
        {
          "output_type": "execute_result",
          "data": {
            "text/plain": [
              "0    1.0\n",
              "1    0.0\n",
              "2    1.0\n",
              "3    0.0\n",
              "4    1.0\n",
              "Name: Outcome, dtype: float64"
            ]
          },
          "metadata": {},
          "execution_count": 23
        }
      ]
    },
    {
      "cell_type": "markdown",
      "source": [
        "## 7.1 Train test split"
      ],
      "metadata": {
        "id": "3v3QSUapOUe4"
      }
    },
    {
      "cell_type": "markdown",
      "source": [
        "I've used 80% train and 20% test\n",
        "\n"
      ],
      "metadata": {
        "id": "NR86cJzcOUe4"
      }
    },
    {
      "cell_type": "code",
      "source": [
        "from sklearn.model_selection import train_test_split\n",
        "X_train, X_test, y_train, y_test= train_test_split(X,y,test_size=0.2,random_state=0)#splitting data in 80% train, 20%test"
      ],
      "metadata": {
        "execution": {
          "iopub.status.busy": "2022-01-16T17:05:12.540522Z",
          "iopub.execute_input": "2022-01-16T17:05:12.541207Z",
          "iopub.status.idle": "2022-01-16T17:05:12.549703Z",
          "shell.execute_reply.started": "2022-01-16T17:05:12.541159Z",
          "shell.execute_reply": "2022-01-16T17:05:12.549104Z"
        },
        "trusted": true,
        "id": "PXYXkenaOUe4"
      },
      "execution_count": 92,
      "outputs": []
    },
    {
      "cell_type": "code",
      "source": [
        "X_train.shape,y_train.shape"
      ],
      "metadata": {
        "execution": {
          "iopub.status.busy": "2022-01-16T17:05:12.550801Z",
          "iopub.execute_input": "2022-01-16T17:05:12.551597Z",
          "iopub.status.idle": "2022-01-16T17:05:12.561757Z",
          "shell.execute_reply.started": "2022-01-16T17:05:12.551559Z",
          "shell.execute_reply": "2022-01-16T17:05:12.561152Z"
        },
        "trusted": true,
        "colab": {
          "base_uri": "https://localhost:8080/",
          "height": 0
        },
        "id": "KFYORkBOOUe5",
        "outputId": "d9bca32d-dce8-4357-817b-b89ed81cd182"
      },
      "execution_count": 93,
      "outputs": [
        {
          "output_type": "execute_result",
          "data": {
            "text/plain": [
              "((614, 5), (614,))"
            ]
          },
          "metadata": {},
          "execution_count": 93
        }
      ]
    },
    {
      "cell_type": "code",
      "source": [
        "X_test.shape,y_test.shape"
      ],
      "metadata": {
        "execution": {
          "iopub.status.busy": "2022-01-16T17:05:12.563045Z",
          "iopub.execute_input": "2022-01-16T17:05:12.563446Z",
          "iopub.status.idle": "2022-01-16T17:05:12.576481Z",
          "shell.execute_reply.started": "2022-01-16T17:05:12.563406Z",
          "shell.execute_reply": "2022-01-16T17:05:12.575795Z"
        },
        "trusted": true,
        "colab": {
          "base_uri": "https://localhost:8080/",
          "height": 0
        },
        "id": "u2LeJEMxOUe5",
        "outputId": "d5281d7a-813e-4fd6-a742-ced4206c6afe"
      },
      "execution_count": 94,
      "outputs": [
        {
          "output_type": "execute_result",
          "data": {
            "text/plain": [
              "((154, 5), (154,))"
            ]
          },
          "metadata": {},
          "execution_count": 94
        }
      ]
    },
    {
      "cell_type": "markdown",
      "source": [
        "# 8. PCA"
      ],
      "metadata": {
        "id": "rBASJ9aqhzso"
      }
    },
    {
      "cell_type": "markdown",
      "source": [
        "## PCA Algorithm for compression\n",
        "PCA analysis is used to select axes of the train data set that keep the highest variance in the train set. Number of axes is equal to the count of dimensions in the data.\n",
        "\n",
        "After reducing number of dimensions train set takes much less space in computer memory. It can speed up work of algorithms, while keeping high variation of train set (here it's 95%). We can see on the plot, that because of having only 5 components in the data-set PCA dropping 1 component would leave us with 92% variance in train set, so we end up dropping 0 components.\n",
        "\n",
        "For bigger data sets it's advised to batch-load the data to avoid overflowing the memory."
      ],
      "metadata": {
        "id": "QQ96EmhFZQK-"
      }
    },
    {
      "cell_type": "code",
      "source": [
        "from sklearn.decomposition import PCA\n",
        "print(np.cumsum(pca.explained_variance_ratio_))\n",
        "pca = PCA().fit(X_train)\n",
        "plt.plot(np.cumsum(pca.explained_variance_ratio_))\n",
        "plt.xlabel('number of components')\n",
        "plt.ylabel('cumulative explained variance');\n",
        "\n",
        "\n",
        "pca = PCA(n_components = 0.95)\n",
        "X_train_95 = pca.fit_transform(X_train)\n",
        "\n"
      ],
      "metadata": {
        "colab": {
          "base_uri": "https://localhost:8080/",
          "height": 297
        },
        "id": "ZpRE_xszZP3I",
        "outputId": "63bc0557-abba-4827-e5d1-f82442d81a5e"
      },
      "execution_count": 95,
      "outputs": [
        {
          "output_type": "stream",
          "name": "stdout",
          "text": [
            "[0.37646651 0.67602246 0.84234303 0.92566814 1.        ]\n"
          ]
        },
        {
          "output_type": "display_data",
          "data": {
            "image/png": "[encoded data removed]",
            "text/plain": [
              "<Figure size 432x288 with 1 Axes>"
            ]
          },
          "metadata": {}
        }
      ]
    },
    {
      "cell_type": "markdown",
      "source": [
        "### **CONCLUSION** Too few dimensions available for PCA to bring value, will try it anyway. Doing PCA unfortunetly results in mix of permutated dimensions. We can no longer tell what is what, as the dimensions that are left are a permutation made out from all the dimensions in the data."
      ],
      "metadata": {
        "id": "UbbiV7HNf6m8"
      }
    },
    {
      "cell_type": "code",
      "source": [
        "print(' \\tX_train  after PCA  \\n')\n",
        "print(X_train_95)\n",
        "print('\\n \\n \\t X_train  before PCA \\n')\n",
        "print(X_train)"
      ],
      "metadata": {
        "colab": {
          "base_uri": "https://localhost:8080/",
          "height": 0
        },
        "id": "39YWcytVf4O4",
        "outputId": "5de4aa88-ee41-43b9-c2db-d96e97ffd063"
      },
      "execution_count": 129,
      "outputs": [
        {
          "output_type": "stream",
          "name": "stdout",
          "text": [
            " \tX_train  after PCA  \n",
            "\n",
            "[[-0.65006245 -0.05446801  0.08196798  0.02580802  0.01860238]\n",
            " [ 0.39962336 -0.18841878 -0.19197339 -0.20165945 -0.17424596]\n",
            " [ 0.02959     0.81549439  0.34219695  0.00332988 -0.07763099]\n",
            " ...\n",
            " [ 0.59874395 -0.34362438 -0.13841723 -0.25021501 -0.23514687]\n",
            " [-0.07894426 -0.47618066 -0.4416827   0.01881146 -0.1389717 ]\n",
            " [-0.42077559 -0.30231941  0.16751394  0.19806597  0.08539584]]\n",
            "\n",
            " \n",
            " \t X_train  before PCA \n",
            "\n",
            "     Pregnancies   Glucose  SkinThickness       BMI       Age\n",
            "603     0.809648  0.816167       0.644720  0.687744  0.926336\n",
            "118     0.596480  0.217731       0.357888  0.286180  0.128422\n",
            "247     0.000000  0.891786       0.768579  0.991525  0.200130\n",
            "157     0.232725  0.394394       0.167536  0.153846  0.200130\n",
            "468     0.863755  0.532595       0.357888  0.375489  0.705346\n",
            "..           ...       ...            ...       ...       ...\n",
            "763     0.940678  0.278357       0.978488  0.552803  0.976532\n",
            "192     0.809648  0.866362       0.357888  0.398957  0.659713\n",
            "629     0.596480  0.179922       0.184485  0.129074  0.000000\n",
            "559     0.962842  0.091265       0.357888  0.385919  0.642112\n",
            "684     0.677966  0.711213       0.357888  0.487614  0.995437\n",
            "\n",
            "[614 rows x 5 columns]\n"
          ]
        }
      ]
    },
    {
      "cell_type": "markdown",
      "source": [
        "# 9. Classification Algorithms\n",
        "\n",
        "- KNN\n",
        "- KNN centroid\n",
        "- KNN (self implemented)**pogrubiony tekst**\n",
        "- Soft sets system\n",
        "- Example of fuzzy set system\n",
        "\n",
        "### The models include the following:-\n",
        "\n",
        "#### a. Hyper Parameter Tuning using GridSearch CV\n",
        "\n",
        "\n",
        "#### b. Fit Best Model\n",
        "\n",
        "#### c. Predict on testing data using that model\n",
        "\n",
        "#### d. Performance Metrics :- Confusion Matrix, F1 Score, Precision Score, Recall Score\n",
        "**Confusion Matrix**\n",
        "It is a tabular visualization of the model predictions versus the ground-truth labels. \n",
        "\n",
        "\n",
        "\n",
        "**F1 Score :-**\n",
        "It’s the harmonic mean between precision and recall. \n",
        "\n",
        "\n",
        "\n",
        "**Precision Score**\n",
        "Precision is the fraction of predicted positives/negatives events that are actually positive/negatives.\n",
        "\n",
        "\n",
        "\n",
        "**Recall Score**\n",
        "It is the fraction of positives/negative events that you predicted correctly. \n",
        "\n",
        "\n"
      ],
      "metadata": {
        "id": "VfW78XLzOUe5"
      }
    },
    {
      "cell_type": "markdown",
      "source": [
        "## 9.1 K Nearest Neighbours :-\n",
        "\n",
        "KNN algorithm, is a non-parametric algorithm that classifies data points based on their proximity and association to other available data."
      ],
      "metadata": {
        "id": "owePTRYoOUe6"
      }
    },
    {
      "cell_type": "code",
      "source": [
        "from sklearn.neighbors import KNeighborsClassifier\n",
        "from sklearn.model_selection import RepeatedStratifiedKFold\n",
        "from sklearn.metrics import classification_report,confusion_matrix\n",
        "from sklearn.metrics import f1_score, precision_score, recall_score\n",
        "from sklearn.model_selection import GridSearchCV"
      ],
      "metadata": {
        "trusted": true,
        "id": "CoCY-j-yOUe6"
      },
      "execution_count": 96,
      "outputs": []
    },
    {
      "cell_type": "code",
      "source": [
        "#List Hyperparameters to tune\n",
        "knn= KNeighborsClassifier()\n",
        "n_neighbors = list(range(15,25))\n",
        "p=[1,2]\n",
        "weights = ['uniform', 'distance']\n",
        "metric = ['euclidean', 'manhattan', 'minkowski']\n",
        "\n",
        "#convert to dictionary\n",
        "hyperparameters = dict(n_neighbors=n_neighbors, p=p,weights=weights,metric=metric)\n",
        "\n",
        "#Making model\n",
        "cv = RepeatedStratifiedKFold(n_splits=10, n_repeats=3, random_state=1)\n",
        "grid_search = GridSearchCV(estimator=knn, param_grid=hyperparameters, n_jobs=-1, cv=cv, scoring='f1',error_score=0)"
      ],
      "metadata": {
        "execution": {
          "iopub.status.busy": "2022-01-16T17:05:12.590904Z",
          "iopub.execute_input": "2022-01-16T17:05:12.593151Z",
          "iopub.status.idle": "2022-01-16T17:05:12.600850Z",
          "shell.execute_reply.started": "2022-01-16T17:05:12.593108Z",
          "shell.execute_reply": "2022-01-16T17:05:12.600250Z"
        },
        "trusted": true,
        "id": "SPzjQDaQOUe7"
      },
      "execution_count": 97,
      "outputs": []
    },
    {
      "cell_type": "code",
      "source": [
        "best_model = grid_search.fit(X_train,y_train)"
      ],
      "metadata": {
        "execution": {
          "iopub.status.busy": "2022-01-16T17:05:12.602007Z",
          "iopub.execute_input": "2022-01-16T17:05:12.602641Z",
          "iopub.status.idle": "2022-01-16T17:05:25.657054Z",
          "shell.execute_reply.started": "2022-01-16T17:05:12.602591Z",
          "shell.execute_reply": "2022-01-16T17:05:25.655908Z"
        },
        "trusted": true,
        "id": "OhlKtE_rOUe7"
      },
      "execution_count": 98,
      "outputs": []
    },
    {
      "cell_type": "code",
      "source": [
        "#Best Hyperparameters Value\n",
        "print('Best leaf_size:', best_model.best_estimator_.get_params()['leaf_size'])\n",
        "print('Best p:', best_model.best_estimator_.get_params()['p'])\n",
        "print('Best n_neighbors:', best_model.best_estimator_.get_params()['n_neighbors'])"
      ],
      "metadata": {
        "execution": {
          "iopub.status.busy": "2022-01-16T17:05:25.659711Z",
          "iopub.execute_input": "2022-01-16T17:05:25.660004Z",
          "iopub.status.idle": "2022-01-16T17:05:25.667607Z",
          "shell.execute_reply.started": "2022-01-16T17:05:25.659948Z",
          "shell.execute_reply": "2022-01-16T17:05:25.666491Z"
        },
        "trusted": true,
        "colab": {
          "base_uri": "https://localhost:8080/",
          "height": 0
        },
        "id": "ecBIfSY3OUe7",
        "outputId": "196e90a2-b8d0-4301-f09d-f7753a987675"
      },
      "execution_count": 99,
      "outputs": [
        {
          "output_type": "stream",
          "name": "stdout",
          "text": [
            "Best leaf_size: 30\n",
            "Best p: 1\n",
            "Best n_neighbors: 19\n"
          ]
        }
      ]
    },
    {
      "cell_type": "code",
      "source": [
        "#Predict testing set\n",
        "knn_pred = best_model.predict(X_test)"
      ],
      "metadata": {
        "execution": {
          "iopub.status.busy": "2022-01-16T17:05:25.668794Z",
          "iopub.execute_input": "2022-01-16T17:05:25.669440Z",
          "iopub.status.idle": "2022-01-16T17:05:25.683651Z",
          "shell.execute_reply.started": "2022-01-16T17:05:25.669401Z",
          "shell.execute_reply": "2022-01-16T17:05:25.682929Z"
        },
        "trusted": true,
        "id": "cM-c6OTLOUe8"
      },
      "execution_count": 100,
      "outputs": []
    },
    {
      "cell_type": "code",
      "source": [
        "print(\"Classification Report is:\\n\",classification_report(y_test,knn_pred))\n",
        "print(\"\\n F1:\\n\",f1_score(y_test,knn_pred))\n",
        "print(\"\\n Precision score is:\\n\",precision_score(y_test,knn_pred))\n",
        "print(\"\\n Recall score is:\\n\",recall_score(y_test,knn_pred))\n",
        "print(\"\\n Confusion Matrix:\\n\")\n",
        "sns.heatmap(confusion_matrix(y_test,knn_pred))"
      ],
      "metadata": {
        "execution": {
          "iopub.status.busy": "2022-01-16T17:05:25.685043Z",
          "iopub.execute_input": "2022-01-16T17:05:25.685350Z",
          "iopub.status.idle": "2022-01-16T17:05:25.952532Z",
          "shell.execute_reply.started": "2022-01-16T17:05:25.685303Z",
          "shell.execute_reply": "2022-01-16T17:05:25.951979Z"
        },
        "trusted": true,
        "colab": {
          "base_uri": "https://localhost:8080/",
          "height": 690
        },
        "id": "-_4uLc1cOUe8",
        "outputId": "799cba6d-8372-4ed0-f548-9c24ec3cc14c"
      },
      "execution_count": 101,
      "outputs": [
        {
          "output_type": "stream",
          "name": "stdout",
          "text": [
            "Classification Report is:\n",
            "               precision    recall  f1-score   support\n",
            "\n",
            "         0.0       0.85      0.88      0.86       107\n",
            "         1.0       0.70      0.64      0.67        47\n",
            "\n",
            "    accuracy                           0.81       154\n",
            "   macro avg       0.77      0.76      0.76       154\n",
            "weighted avg       0.80      0.81      0.80       154\n",
            "\n",
            "\n",
            " F1:\n",
            " 0.6666666666666666\n",
            "\n",
            " Precision score is:\n",
            " 0.6976744186046512\n",
            "\n",
            " Recall score is:\n",
            " 0.6382978723404256\n",
            "\n",
            " Confusion Matrix:\n",
            "\n"
          ]
        },
        {
          "output_type": "execute_result",
          "data": {
            "text/plain": [
              "<matplotlib.axes._subplots.AxesSubplot at 0x7f84dfe736d0>"
            ]
          },
          "metadata": {},
          "execution_count": 101
        },
        {
          "output_type": "display_data",
          "data": {
            "image/png": "[encoded data removed]",
            "text/plain": [
              "<Figure size 432x288 with 2 Axes>"
            ]
          },
          "metadata": {}
        }
      ]
    },
    {
      "cell_type": "code",
      "source": [
        "best_model_95 = grid_search.fit(X_train_95,y_train)\n",
        "knn_pred = best_model_95.predict(X_test)\n",
        "\n",
        "print(\"Classification Report is:\\n\",classification_report(y_test,knn_pred))\n",
        "print(\"\\n F1:\\n\",f1_score(y_test,knn_pred))\n",
        "print(\"\\n Precision score is:\\n\",precision_score(y_test,knn_pred))\n",
        "print(\"\\n Recall score is:\\n\",recall_score(y_test,knn_pred))\n",
        "print(\"\\n Confusion Matrix:\\n\")\n",
        "sns.heatmap(confusion_matrix(y_test,knn_pred))"
      ],
      "metadata": {
        "colab": {
          "base_uri": "https://localhost:8080/",
          "height": 690
        },
        "id": "Ov__FxCNfC70",
        "outputId": "47d7d8f7-1764-4591-c50c-63b7339d8cf0"
      },
      "execution_count": 116,
      "outputs": [
        {
          "output_type": "stream",
          "name": "stdout",
          "text": [
            "Classification Report is:\n",
            "               precision    recall  f1-score   support\n",
            "\n",
            "         0.0       0.66      0.76      0.71       107\n",
            "         1.0       0.19      0.13      0.15        47\n",
            "\n",
            "    accuracy                           0.56       154\n",
            "   macro avg       0.43      0.44      0.43       154\n",
            "weighted avg       0.52      0.56      0.54       154\n",
            "\n",
            "\n",
            " F1:\n",
            " 0.1518987341772152\n",
            "\n",
            " Precision score is:\n",
            " 0.1875\n",
            "\n",
            " Recall score is:\n",
            " 0.1276595744680851\n",
            "\n",
            " Confusion Matrix:\n",
            "\n"
          ]
        },
        {
          "output_type": "execute_result",
          "data": {
            "text/plain": [
              "<matplotlib.axes._subplots.AxesSubplot at 0x7f84dffdaed0>"
            ]
          },
          "metadata": {},
          "execution_count": 116
        },
        {
          "output_type": "display_data",
          "data": {
            "image/png": "[encoded data removed]",
            "text/plain": [
              "<Figure size 432x288 with 2 Axes>"
            ]
          },
          "metadata": {}
        }
      ]
    },
    {
      "cell_type": "markdown",
      "source": [
        "## 9.2  Nearest Centroid :-\n",
        "\n",
        "The NearestCentroid classifier is a simple algorithm that represents each class by the centroid of its members. In effect, this makes it similar to the label updating phase of the KMeans algorithm. It also has no parameters to choose, making it a good baseline classifier."
      ],
      "metadata": {
        "id": "hS5Z5B3nOUe8"
      }
    },
    {
      "cell_type": "code",
      "source": [
        "from sklearn.neighbors import NearestCentroid\n",
        "from sklearn.model_selection import RepeatedStratifiedKFold\n",
        "from sklearn.metrics import classification_report,confusion_matrix\n",
        "from sklearn.metrics import f1_score, precision_score, recall_score\n",
        "from sklearn.model_selection import GridSearchCV"
      ],
      "metadata": {
        "execution": {
          "iopub.status.busy": "2022-01-16T17:05:25.953435Z",
          "iopub.execute_input": "2022-01-16T17:05:25.953735Z",
          "iopub.status.idle": "2022-01-16T17:05:25.958740Z",
          "shell.execute_reply.started": "2022-01-16T17:05:25.953707Z",
          "shell.execute_reply": "2022-01-16T17:05:25.958019Z"
        },
        "trusted": true,
        "id": "Y4S1ejdzOUe9"
      },
      "execution_count": 200,
      "outputs": []
    },
    {
      "cell_type": "code",
      "source": [
        "#List Hyperparameters to tune\n",
        "ncentroid= NearestCentroid()\n",
        "\n",
        "shrink_threshold=[None,0.0000000000000000000001,0.001,0.1,1.0,5.0,50]\n",
        "metric = ['euclidean', 'manhattan']\n",
        "\n",
        "#convert to dictionary\n",
        "hyperparameters = dict(shrink_threshold=shrink_threshold,metric=metric)\n",
        "\n",
        "#Making model\n",
        "cv = RepeatedStratifiedKFold(n_splits=10, n_repeats=3, random_state=1)\n",
        "grid_search = GridSearchCV(estimator=ncentroid, param_grid=hyperparameters, n_jobs=-1, cv=cv, scoring='f1',error_score=0)"
      ],
      "metadata": {
        "execution": {
          "iopub.status.busy": "2022-01-16T17:05:25.960565Z",
          "iopub.execute_input": "2022-01-16T17:05:25.960886Z",
          "iopub.status.idle": "2022-01-16T17:05:25.970810Z",
          "shell.execute_reply.started": "2022-01-16T17:05:25.960835Z",
          "shell.execute_reply": "2022-01-16T17:05:25.969964Z"
        },
        "trusted": true,
        "id": "h0tugP3ZOUe9"
      },
      "execution_count": 201,
      "outputs": []
    },
    {
      "cell_type": "code",
      "source": [
        "best_ncentroid_model = grid_search.fit(X_train,y_train)\n",
        "print('Best shrink_threshold:', best_ncentroid_model.best_estimator_.get_params()['shrink_threshold'])\n",
        "print('Best metric:', best_ncentroid_model.best_estimator_.get_params()['metric'])"
      ],
      "metadata": {
        "execution": {
          "iopub.status.busy": "2022-01-16T17:05:25.972708Z",
          "iopub.execute_input": "2022-01-16T17:05:25.973323Z",
          "iopub.status.idle": "2022-01-16T17:05:26.929474Z",
          "shell.execute_reply.started": "2022-01-16T17:05:25.973275Z",
          "shell.execute_reply": "2022-01-16T17:05:26.928859Z"
        },
        "trusted": true,
        "colab": {
          "base_uri": "https://localhost:8080/",
          "height": 0
        },
        "id": "yps813y5OUe9",
        "outputId": "bfab41fa-708d-4d95-d0f2-6a23f6cafb3f"
      },
      "execution_count": 202,
      "outputs": [
        {
          "output_type": "stream",
          "name": "stdout",
          "text": [
            "Best shrink_threshold: None\n",
            "Best metric: euclidean\n"
          ]
        }
      ]
    },
    {
      "cell_type": "code",
      "source": [
        "#Predict testing set\n",
        "cn_pred = best_ncentroid_model.predict(X_test)"
      ],
      "metadata": {
        "execution": {
          "iopub.status.busy": "2022-01-16T17:05:26.930659Z",
          "iopub.execute_input": "2022-01-16T17:05:26.931068Z",
          "iopub.status.idle": "2022-01-16T17:05:26.937916Z",
          "shell.execute_reply.started": "2022-01-16T17:05:26.931036Z",
          "shell.execute_reply": "2022-01-16T17:05:26.937286Z"
        },
        "trusted": true,
        "id": "X52O6kgdOUe9"
      },
      "execution_count": 203,
      "outputs": []
    },
    {
      "cell_type": "code",
      "source": [
        "print(\"Classification Report is:\\n\",classification_report(y_test,cn_pred))\n",
        "print(\"\\n F1:\\n\",f1_score(y_test,cn_pred))\n",
        "print(\"\\n Precision score is:\\n\",precision_score(y_test,cn_pred))\n",
        "print(\"\\n Recall score is:\\n\",recall_score(y_test,cn_pred))\n",
        "print(\"\\n Confusion Matrix:\\n\")\n",
        "sns.heatmap(confusion_matrix(y_test,cn_pred))"
      ],
      "metadata": {
        "execution": {
          "iopub.status.busy": "2022-01-16T17:05:26.939216Z",
          "iopub.execute_input": "2022-01-16T17:05:26.939627Z",
          "iopub.status.idle": "2022-01-16T17:05:27.190421Z",
          "shell.execute_reply.started": "2022-01-16T17:05:26.939596Z",
          "shell.execute_reply": "2022-01-16T17:05:27.189563Z"
        },
        "trusted": true,
        "colab": {
          "base_uri": "https://localhost:8080/",
          "height": 690
        },
        "id": "6vaOs4xAOUe-",
        "outputId": "fd46dfec-3faa-4523-ab5a-e8ad78790c5b"
      },
      "execution_count": 204,
      "outputs": [
        {
          "output_type": "stream",
          "name": "stdout",
          "text": [
            "Classification Report is:\n",
            "               precision    recall  f1-score   support\n",
            "\n",
            "         0.0       0.88      0.74      0.80       107\n",
            "         1.0       0.56      0.77      0.65        47\n",
            "\n",
            "    accuracy                           0.75       154\n",
            "   macro avg       0.72      0.75      0.73       154\n",
            "weighted avg       0.78      0.75      0.76       154\n",
            "\n",
            "\n",
            " F1:\n",
            " 0.6486486486486486\n",
            "\n",
            " Precision score is:\n",
            " 0.5625\n",
            "\n",
            " Recall score is:\n",
            " 0.7659574468085106\n",
            "\n",
            " Confusion Matrix:\n",
            "\n"
          ]
        },
        {
          "output_type": "execute_result",
          "data": {
            "text/plain": [
              "<matplotlib.axes._subplots.AxesSubplot at 0x7f84dadfb610>"
            ]
          },
          "metadata": {},
          "execution_count": 204
        },
        {
          "output_type": "display_data",
          "data": {
            "image/png": "[encoded data removed]",
            "text/plain": [
              "<Figure size 432x288 with 2 Axes>"
            ]
          },
          "metadata": {}
        }
      ]
    },
    {
      "cell_type": "code",
      "source": [
        "best_ncentroid_model_95 = grid_search.fit(X_train_95,y_train)\n",
        "cn_pred = best_ncentroid_model_95.predict(X_test)\n",
        "\n",
        "print(\"Classification Report is:\\n\",classification_report(y_test,cn_pred))\n",
        "print(\"\\n F1:\\n\",f1_score(y_test,cn_pred))\n",
        "print(\"\\n Precision score is:\\n\",precision_score(y_test,cn_pred))\n",
        "print(\"\\n Recall score is:\\n\",recall_score(y_test,cn_pred))\n",
        "print(\"\\n Confusion Matrix:\\n\")\n",
        "sns.heatmap(confusion_matrix(y_test,cn_pred))"
      ],
      "metadata": {
        "colab": {
          "base_uri": "https://localhost:8080/",
          "height": 690
        },
        "id": "xwbpGkFEfi4U",
        "outputId": "29f27934-91ab-4a4e-967a-abbf2a3820f9"
      },
      "execution_count": 205,
      "outputs": [
        {
          "output_type": "stream",
          "name": "stdout",
          "text": [
            "Classification Report is:\n",
            "               precision    recall  f1-score   support\n",
            "\n",
            "         0.0       0.66      0.76      0.71       107\n",
            "         1.0       0.19      0.13      0.15        47\n",
            "\n",
            "    accuracy                           0.56       154\n",
            "   macro avg       0.43      0.44      0.43       154\n",
            "weighted avg       0.52      0.56      0.54       154\n",
            "\n",
            "\n",
            " F1:\n",
            " 0.1518987341772152\n",
            "\n",
            " Precision score is:\n",
            " 0.1875\n",
            "\n",
            " Recall score is:\n",
            " 0.1276595744680851\n",
            "\n",
            " Confusion Matrix:\n",
            "\n"
          ]
        },
        {
          "output_type": "execute_result",
          "data": {
            "text/plain": [
              "<matplotlib.axes._subplots.AxesSubplot at 0x7f84dff55c50>"
            ]
          },
          "metadata": {},
          "execution_count": 205
        },
        {
          "output_type": "display_data",
          "data": {
            "image/png": "[encoded data removed]",
            "text/plain": [
              "<Figure size 432x288 with 2 Axes>"
            ]
          },
          "metadata": {}
        }
      ]
    },
    {
      "cell_type": "markdown",
      "source": [
        "## 9.3 K-NN (Self-Implemented, k =3, Eucilidan distance) :-\n",
        "\n"
      ],
      "metadata": {
        "id": "Hg2M6HWdXUwN"
      }
    },
    {
      "cell_type": "code",
      "source": [
        "import numpy as np\n",
        "\n",
        "from numpy.linalg import norm\n",
        "\n",
        "def euclidean(a, b):\n",
        "    \"\"\"Compute and return the euclidean distance between a and b.\"\"\"\n",
        "    return norm(a-b)\n",
        "\n",
        "class KNearestNeighbors:\n",
        "\n",
        "    def __init__(self, k=19, distance_metric=euclidean):\n",
        "        \"\"\"Initialize k value and distance metric used for model.\"\"\"\n",
        "        self.k = k\n",
        "        self.distance = distance_metric\n",
        "        self.data = None\n",
        "\n",
        "    def train(self, X, y):\n",
        "        \"\"\"Zip labels and input data together for classification.\"\"\"\n",
        "        # raise value error if inputs are wrong length or different types\n",
        "        if len(X) != len(y) or type(X) != type(y):\n",
        "            raise ValueError(\"X and y are incompatible.\")\n",
        "        # convert ndarrays to lists\n",
        "        if type(X) == np.ndarray:\n",
        "            X, y = X.tolist(), y.tolist()\n",
        "        # set data attribute containing instances and labels\n",
        "        self.data = [X[i]+[y[i]] for i in range(len(X))]\n",
        "\n",
        "    def predict(self, a):\n",
        "        \"\"\"Predict class based on k-nearest neighbors.\"\"\"\n",
        "        neighbors = []\n",
        "        # create mapping from distance to instance\n",
        "        distances = {self.distance(x[:-1], a): x for x in self.data}\n",
        "        # collect classes of k instances with shortest distance\n",
        "        for key in sorted(distances.keys())[:self.k]:\n",
        "            neighbors.append(distances[key][-1])\n",
        "        # return most common vote\n",
        "        return max(set(neighbors), key=neighbors.count)"
      ],
      "metadata": {
        "id": "mzql1WumqCYm"
      },
      "execution_count": 249,
      "outputs": []
    },
    {
      "cell_type": "code",
      "source": [
        "knn_custom = KNearestNeighbors()\n",
        "knn_custom.train(X_train.to_numpy(),y_train.to_numpy())\n",
        "knn_custom\n",
        "knn_custom_pred = []\n",
        "for point in X_test.to_numpy():\n",
        "  knn_custom_pred.append(knn_custom.predict(point))\n"
      ],
      "metadata": {
        "id": "YZhjfZT1nVfW"
      },
      "execution_count": 250,
      "outputs": []
    },
    {
      "cell_type": "code",
      "source": [
        "\n",
        "\n",
        "print(\"Classification Report is:\\n\",classification_report(y_test,knn_custom_pred))\n",
        "print(\"\\n F1:\\n\",f1_score(y_test,knn_custom_pred))\n",
        "print(\"\\n Precision score is:\\n\",precision_score(y_test,knn_custom_pred))\n",
        "print(\"\\n Recall score is:\\n\",recall_score(y_test,knn_custom_pred))\n",
        "print(\"\\n Confusion Matrix:\\n\")\n",
        "sns.heatmap(confusion_matrix(y_test,knn_custom_pred))"
      ],
      "metadata": {
        "colab": {
          "base_uri": "https://localhost:8080/",
          "height": 690
        },
        "id": "jVNxCugQrDv8",
        "outputId": "4627e193-c996-49de-c0b2-14950b4a3d5d"
      },
      "execution_count": 251,
      "outputs": [
        {
          "output_type": "stream",
          "name": "stdout",
          "text": [
            "Classification Report is:\n",
            "               precision    recall  f1-score   support\n",
            "\n",
            "         0.0       0.84      0.88      0.86       107\n",
            "         1.0       0.69      0.62      0.65        47\n",
            "\n",
            "    accuracy                           0.80       154\n",
            "   macro avg       0.76      0.75      0.76       154\n",
            "weighted avg       0.79      0.80      0.80       154\n",
            "\n",
            "\n",
            " F1:\n",
            " 0.651685393258427\n",
            "\n",
            " Precision score is:\n",
            " 0.6904761904761905\n",
            "\n",
            " Recall score is:\n",
            " 0.6170212765957447\n",
            "\n",
            " Confusion Matrix:\n",
            "\n"
          ]
        },
        {
          "output_type": "execute_result",
          "data": {
            "text/plain": [
              "<matplotlib.axes._subplots.AxesSubplot at 0x7f84da7a8490>"
            ]
          },
          "metadata": {},
          "execution_count": 251
        },
        {
          "output_type": "display_data",
          "data": {
            "image/png": "[encoded data removed]",
            "text/plain": [
              "<Figure size 432x288 with 2 Axes>"
            ]
          },
          "metadata": {}
        }
      ]
    },
    {
      "cell_type": "code",
      "source": [
        "knn_custom = KNearestNeighbors()\n",
        "knn_custom.train(X_train_95,y_train.to_numpy())\n",
        "knn_custom\n",
        "knn_custom_pred = []\n",
        "for point in X_test.to_numpy():\n",
        "  knn_custom_pred.append(knn_custom.predict(point))\n"
      ],
      "metadata": {
        "id": "H4CvaoJTtofh"
      },
      "execution_count": 252,
      "outputs": []
    },
    {
      "cell_type": "code",
      "source": [
        "model = knn_custom.predict(X_test)\n",
        "\n",
        "print(\"Classification Report is:\\n\",classification_report(y_test,cn_pred))\n",
        "print(\"\\n F1:\\n\",f1_score(y_test,cn_pred))\n",
        "print(\"\\n Precision score is:\\n\",precision_score(y_test,cn_pred))\n",
        "print(\"\\n Recall score is:\\n\",recall_score(y_test,cn_pred))\n",
        "print(\"\\n Confusion Matrix:\\n\")\n",
        "sns.heatmap(confusion_matrix(y_test,cn_pred))"
      ],
      "metadata": {
        "colab": {
          "base_uri": "https://localhost:8080/",
          "height": 690
        },
        "id": "DLAD0usjr9bO",
        "outputId": "dc670a48-b1b3-4757-8eca-4fc712425ee4"
      },
      "execution_count": 253,
      "outputs": [
        {
          "output_type": "stream",
          "name": "stdout",
          "text": [
            "Classification Report is:\n",
            "               precision    recall  f1-score   support\n",
            "\n",
            "         0.0       0.66      0.76      0.71       107\n",
            "         1.0       0.19      0.13      0.15        47\n",
            "\n",
            "    accuracy                           0.56       154\n",
            "   macro avg       0.43      0.44      0.43       154\n",
            "weighted avg       0.52      0.56      0.54       154\n",
            "\n",
            "\n",
            " F1:\n",
            " 0.1518987341772152\n",
            "\n",
            " Precision score is:\n",
            " 0.1875\n",
            "\n",
            " Recall score is:\n",
            " 0.1276595744680851\n",
            "\n",
            " Confusion Matrix:\n",
            "\n"
          ]
        },
        {
          "output_type": "execute_result",
          "data": {
            "text/plain": [
              "<matplotlib.axes._subplots.AxesSubplot at 0x7f84da735310>"
            ]
          },
          "metadata": {},
          "execution_count": 253
        },
        {
          "output_type": "display_data",
          "data": {
            "image/png": "[encoded data removed]",
            "text/plain": [
              "<Figure size 432x288 with 2 Axes>"
            ]
          },
          "metadata": {}
        }
      ]
    },
    {
      "cell_type": "markdown",
      "source": [
        "## 9.3 Soft Sets :-\n",
        "\n",
        "It's a set of rules based on expert knowledge, it uses 'crisp' logic.\n",
        "\n",
        "It requires expert knowledge to produce a set of rules used for scoring. Here we will just select most distinctive value and use it as an example, system should be underperforming."
      ],
      "metadata": {
        "id": "f9rhpHI8OUe-"
      }
    },
    {
      "cell_type": "code",
      "source": [
        "df_selected.loc[df_selected['Outcome'] == 0].describe()  "
      ],
      "metadata": {
        "execution": {
          "iopub.status.busy": "2022-01-16T17:41:23.391165Z",
          "iopub.execute_input": "2022-01-16T17:41:23.391428Z",
          "iopub.status.idle": "2022-01-16T17:41:23.419868Z",
          "shell.execute_reply.started": "2022-01-16T17:41:23.391400Z",
          "shell.execute_reply": "2022-01-16T17:41:23.419290Z"
        },
        "trusted": true,
        "colab": {
          "base_uri": "https://localhost:8080/",
          "height": 300
        },
        "id": "8zZe2zxIOUe-",
        "outputId": "0097171b-d0d0-4f44-f43a-53bf3c51fcb6"
      },
      "execution_count": 107,
      "outputs": [
        {
          "output_type": "execute_result",
          "data": {
            "text/html": [
              "\n",
              "  <div id=\"df-16563276-efe9-4768-b95c-56a279fd1a49\">\n",
              "    <div class=\"colab-df-container\">\n",
              "      <div>\n",
              "<style scoped>\n",
              "    .dataframe tbody tr th:only-of-type {\n",
              "        vertical-align: middle;\n",
              "    }\n",
              "\n",
              "    .dataframe tbody tr th {\n",
              "        vertical-align: top;\n",
              "    }\n",
              "\n",
              "    .dataframe thead th {\n",
              "        text-align: right;\n",
              "    }\n",
              "</style>\n",
              "<table border=\"1\" class=\"dataframe\">\n",
              "  <thead>\n",
              "    <tr style=\"text-align: right;\">\n",
              "      <th></th>\n",
              "      <th>Pregnancies</th>\n",
              "      <th>Glucose</th>\n",
              "      <th>SkinThickness</th>\n",
              "      <th>BMI</th>\n",
              "      <th>Age</th>\n",
              "      <th>Outcome</th>\n",
              "    </tr>\n",
              "  </thead>\n",
              "  <tbody>\n",
              "    <tr>\n",
              "      <th>count</th>\n",
              "      <td>500.000000</td>\n",
              "      <td>500.000000</td>\n",
              "      <td>500.000000</td>\n",
              "      <td>500.000000</td>\n",
              "      <td>500.000000</td>\n",
              "      <td>500.0</td>\n",
              "    </tr>\n",
              "    <tr>\n",
              "      <th>mean</th>\n",
              "      <td>3.298000</td>\n",
              "      <td>110.705367</td>\n",
              "      <td>26.058000</td>\n",
              "      <td>30.880200</td>\n",
              "      <td>31.190000</td>\n",
              "      <td>0.0</td>\n",
              "    </tr>\n",
              "    <tr>\n",
              "      <th>std</th>\n",
              "      <td>3.017185</td>\n",
              "      <td>24.715021</td>\n",
              "      <td>8.725532</td>\n",
              "      <td>6.503074</td>\n",
              "      <td>11.667655</td>\n",
              "      <td>0.0</td>\n",
              "    </tr>\n",
              "    <tr>\n",
              "      <th>min</th>\n",
              "      <td>0.000000</td>\n",
              "      <td>44.000000</td>\n",
              "      <td>7.000000</td>\n",
              "      <td>18.200000</td>\n",
              "      <td>21.000000</td>\n",
              "      <td>0.0</td>\n",
              "    </tr>\n",
              "    <tr>\n",
              "      <th>25%</th>\n",
              "      <td>1.000000</td>\n",
              "      <td>93.000000</td>\n",
              "      <td>22.000000</td>\n",
              "      <td>25.750000</td>\n",
              "      <td>23.000000</td>\n",
              "      <td>0.0</td>\n",
              "    </tr>\n",
              "    <tr>\n",
              "      <th>50%</th>\n",
              "      <td>2.000000</td>\n",
              "      <td>107.500000</td>\n",
              "      <td>23.000000</td>\n",
              "      <td>30.400000</td>\n",
              "      <td>27.000000</td>\n",
              "      <td>0.0</td>\n",
              "    </tr>\n",
              "    <tr>\n",
              "      <th>75%</th>\n",
              "      <td>5.000000</td>\n",
              "      <td>125.000000</td>\n",
              "      <td>31.000000</td>\n",
              "      <td>35.300000</td>\n",
              "      <td>37.000000</td>\n",
              "      <td>0.0</td>\n",
              "    </tr>\n",
              "    <tr>\n",
              "      <th>max</th>\n",
              "      <td>13.000000</td>\n",
              "      <td>197.000000</td>\n",
              "      <td>60.000000</td>\n",
              "      <td>57.300000</td>\n",
              "      <td>81.000000</td>\n",
              "      <td>0.0</td>\n",
              "    </tr>\n",
              "  </tbody>\n",
              "</table>\n",
              "</div>\n",
              "      <button class=\"colab-df-convert\" onclick=\"convertToInteractive('df-16563276-efe9-4768-b95c-56a279fd1a49')\"\n",
              "              title=\"Convert this dataframe to an interactive table.\"\n",
              "              style=\"display:none;\">\n",
              "        \n",
              "  <svg xmlns=\"http://www.w3.org/2000/svg\" height=\"24px\"viewBox=\"0 0 24 24\"\n",
              "       width=\"24px\">\n",
              "    <path d=\"M0 0h24v24H0V0z\" fill=\"none\"/>\n",
              "    <path d=\"M18.56 5.44l.94 2.06.94-2.06 2.06-.94-2.06-.94-.94-2.06-.94 2.06-2.06.94zm-11 1L8.5 8.5l.94-2.06 2.06-.94-2.06-.94L8.5 2.5l-.94 2.06-2.06.94zm10 10l.94 2.06.94-2.06 2.06-.94-2.06-.94-.94-2.06-.94 2.06-2.06.94z\"/><path d=\"M17.41 7.96l-1.37-1.37c-.4-.4-.92-.59-1.43-.59-.52 0-1.04.2-1.43.59L10.3 9.45l-7.72 7.72c-.78.78-.78 2.05 0 2.83L4 21.41c.39.39.9.59 1.41.59.51 0 1.02-.2 1.41-.59l7.78-7.78 2.81-2.81c.8-.78.8-2.07 0-2.86zM5.41 20L4 18.59l7.72-7.72 1.47 1.35L5.41 20z\"/>\n",
              "  </svg>\n",
              "      </button>\n",
              "      \n",
              "  <style>\n",
              "    .colab-df-container {\n",
              "      display:flex;\n",
              "      flex-wrap:wrap;\n",
              "      gap: 12px;\n",
              "    }\n",
              "\n",
              "    .colab-df-convert {\n",
              "      background-color: #E8F0FE;\n",
              "      border: none;\n",
              "      border-radius: 50%;\n",
              "      cursor: pointer;\n",
              "      display: none;\n",
              "      fill: #1967D2;\n",
              "      height: 32px;\n",
              "      padding: 0 0 0 0;\n",
              "      width: 32px;\n",
              "    }\n",
              "\n",
              "    .colab-df-convert:hover {\n",
              "      background-color: #E2EBFA;\n",
              "      box-shadow: 0px 1px 2px rgba(60, 64, 67, 0.3), 0px 1px 3px 1px rgba(60, 64, 67, 0.15);\n",
              "      fill: #174EA6;\n",
              "    }\n",
              "\n",
              "    [theme=dark] .colab-df-convert {\n",
              "      background-color: #3B4455;\n",
              "      fill: #D2E3FC;\n",
              "    }\n",
              "\n",
              "    [theme=dark] .colab-df-convert:hover {\n",
              "      background-color: #434B5C;\n",
              "      box-shadow: 0px 1px 3px 1px rgba(0, 0, 0, 0.15);\n",
              "      filter: drop-shadow(0px 1px 2px rgba(0, 0, 0, 0.3));\n",
              "      fill: #FFFFFF;\n",
              "    }\n",
              "  </style>\n",
              "\n",
              "      <script>\n",
              "        const buttonEl =\n",
              "          document.querySelector('#df-16563276-efe9-4768-b95c-56a279fd1a49 button.colab-df-convert');\n",
              "        buttonEl.style.display =\n",
              "          google.colab.kernel.accessAllowed ? 'block' : 'none';\n",
              "\n",
              "        async function convertToInteractive(key) {\n",
              "          const element = document.querySelector('#df-16563276-efe9-4768-b95c-56a279fd1a49');\n",
              "          const dataTable =\n",
              "            await google.colab.kernel.invokeFunction('convertToInteractive',\n",
              "                                                     [key], {});\n",
              "          if (!dataTable) return;\n",
              "\n",
              "          const docLinkHtml = 'Like what you see? Visit the ' +\n",
              "            '<a target=\"_blank\" href=https://colab.research.google.com/notebooks/data_table.ipynb>data table notebook</a>'\n",
              "            + ' to learn more about interactive tables.';\n",
              "          element.innerHTML = '';\n",
              "          dataTable['output_type'] = 'display_data';\n",
              "          await google.colab.output.renderOutput(dataTable, element);\n",
              "          const docLink = document.createElement('div');\n",
              "          docLink.innerHTML = docLinkHtml;\n",
              "          element.appendChild(docLink);\n",
              "        }\n",
              "      </script>\n",
              "    </div>\n",
              "  </div>\n",
              "  "
            ],
            "text/plain": [
              "       Pregnancies     Glucose  SkinThickness         BMI         Age  Outcome\n",
              "count   500.000000  500.000000     500.000000  500.000000  500.000000    500.0\n",
              "mean      3.298000  110.705367      26.058000   30.880200   31.190000      0.0\n",
              "std       3.017185   24.715021       8.725532    6.503074   11.667655      0.0\n",
              "min       0.000000   44.000000       7.000000   18.200000   21.000000      0.0\n",
              "25%       1.000000   93.000000      22.000000   25.750000   23.000000      0.0\n",
              "50%       2.000000  107.500000      23.000000   30.400000   27.000000      0.0\n",
              "75%       5.000000  125.000000      31.000000   35.300000   37.000000      0.0\n",
              "max      13.000000  197.000000      60.000000   57.300000   81.000000      0.0"
            ]
          },
          "metadata": {},
          "execution_count": 107
        }
      ]
    },
    {
      "cell_type": "code",
      "source": [
        "df_selected.loc[df_selected['Outcome'] == 1].describe()"
      ],
      "metadata": {
        "execution": {
          "iopub.status.busy": "2022-01-16T17:41:33.124914Z",
          "iopub.execute_input": "2022-01-16T17:41:33.125989Z",
          "iopub.status.idle": "2022-01-16T17:41:33.155676Z",
          "shell.execute_reply.started": "2022-01-16T17:41:33.125909Z",
          "shell.execute_reply": "2022-01-16T17:41:33.154799Z"
        },
        "trusted": true,
        "colab": {
          "base_uri": "https://localhost:8080/",
          "height": 300
        },
        "id": "fWRG0V34OUe-",
        "outputId": "7243ce5d-8d78-4a8f-dcc1-2e49048f1f03"
      },
      "execution_count": 108,
      "outputs": [
        {
          "output_type": "execute_result",
          "data": {
            "text/html": [
              "\n",
              "  <div id=\"df-d771d358-a3cb-42e6-ab09-8a3cdc4f67b6\">\n",
              "    <div class=\"colab-df-container\">\n",
              "      <div>\n",
              "<style scoped>\n",
              "    .dataframe tbody tr th:only-of-type {\n",
              "        vertical-align: middle;\n",
              "    }\n",
              "\n",
              "    .dataframe tbody tr th {\n",
              "        vertical-align: top;\n",
              "    }\n",
              "\n",
              "    .dataframe thead th {\n",
              "        text-align: right;\n",
              "    }\n",
              "</style>\n",
              "<table border=\"1\" class=\"dataframe\">\n",
              "  <thead>\n",
              "    <tr style=\"text-align: right;\">\n",
              "      <th></th>\n",
              "      <th>Pregnancies</th>\n",
              "      <th>Glucose</th>\n",
              "      <th>SkinThickness</th>\n",
              "      <th>BMI</th>\n",
              "      <th>Age</th>\n",
              "      <th>Outcome</th>\n",
              "    </tr>\n",
              "  </thead>\n",
              "  <tbody>\n",
              "    <tr>\n",
              "      <th>count</th>\n",
              "      <td>268.000000</td>\n",
              "      <td>268.000000</td>\n",
              "      <td>268.000000</td>\n",
              "      <td>268.000000</td>\n",
              "      <td>268.000000</td>\n",
              "      <td>268.0</td>\n",
              "    </tr>\n",
              "    <tr>\n",
              "      <th>mean</th>\n",
              "      <td>4.865672</td>\n",
              "      <td>142.159661</td>\n",
              "      <td>29.716418</td>\n",
              "      <td>35.381343</td>\n",
              "      <td>37.067164</td>\n",
              "      <td>1.0</td>\n",
              "    </tr>\n",
              "    <tr>\n",
              "      <th>std</th>\n",
              "      <td>3.741239</td>\n",
              "      <td>29.545943</td>\n",
              "      <td>9.676886</td>\n",
              "      <td>6.596704</td>\n",
              "      <td>10.968254</td>\n",
              "      <td>0.0</td>\n",
              "    </tr>\n",
              "    <tr>\n",
              "      <th>min</th>\n",
              "      <td>0.000000</td>\n",
              "      <td>78.000000</td>\n",
              "      <td>7.000000</td>\n",
              "      <td>22.900000</td>\n",
              "      <td>21.000000</td>\n",
              "      <td>1.0</td>\n",
              "    </tr>\n",
              "    <tr>\n",
              "      <th>25%</th>\n",
              "      <td>1.750000</td>\n",
              "      <td>119.000000</td>\n",
              "      <td>23.000000</td>\n",
              "      <td>30.900000</td>\n",
              "      <td>28.000000</td>\n",
              "      <td>1.0</td>\n",
              "    </tr>\n",
              "    <tr>\n",
              "      <th>50%</th>\n",
              "      <td>4.000000</td>\n",
              "      <td>140.000000</td>\n",
              "      <td>27.000000</td>\n",
              "      <td>34.250000</td>\n",
              "      <td>36.000000</td>\n",
              "      <td>1.0</td>\n",
              "    </tr>\n",
              "    <tr>\n",
              "      <th>75%</th>\n",
              "      <td>8.000000</td>\n",
              "      <td>167.000000</td>\n",
              "      <td>36.000000</td>\n",
              "      <td>38.775000</td>\n",
              "      <td>44.000000</td>\n",
              "      <td>1.0</td>\n",
              "    </tr>\n",
              "    <tr>\n",
              "      <th>max</th>\n",
              "      <td>17.000000</td>\n",
              "      <td>199.000000</td>\n",
              "      <td>99.000000</td>\n",
              "      <td>67.100000</td>\n",
              "      <td>70.000000</td>\n",
              "      <td>1.0</td>\n",
              "    </tr>\n",
              "  </tbody>\n",
              "</table>\n",
              "</div>\n",
              "      <button class=\"colab-df-convert\" onclick=\"convertToInteractive('df-d771d358-a3cb-42e6-ab09-8a3cdc4f67b6')\"\n",
              "              title=\"Convert this dataframe to an interactive table.\"\n",
              "              style=\"display:none;\">\n",
              "        \n",
              "  <svg xmlns=\"http://www.w3.org/2000/svg\" height=\"24px\"viewBox=\"0 0 24 24\"\n",
              "       width=\"24px\">\n",
              "    <path d=\"M0 0h24v24H0V0z\" fill=\"none\"/>\n",
              "    <path d=\"M18.56 5.44l.94 2.06.94-2.06 2.06-.94-2.06-.94-.94-2.06-.94 2.06-2.06.94zm-11 1L8.5 8.5l.94-2.06 2.06-.94-2.06-.94L8.5 2.5l-.94 2.06-2.06.94zm10 10l.94 2.06.94-2.06 2.06-.94-2.06-.94-.94-2.06-.94 2.06-2.06.94z\"/><path d=\"M17.41 7.96l-1.37-1.37c-.4-.4-.92-.59-1.43-.59-.52 0-1.04.2-1.43.59L10.3 9.45l-7.72 7.72c-.78.78-.78 2.05 0 2.83L4 21.41c.39.39.9.59 1.41.59.51 0 1.02-.2 1.41-.59l7.78-7.78 2.81-2.81c.8-.78.8-2.07 0-2.86zM5.41 20L4 18.59l7.72-7.72 1.47 1.35L5.41 20z\"/>\n",
              "  </svg>\n",
              "      </button>\n",
              "      \n",
              "  <style>\n",
              "    .colab-df-container {\n",
              "      display:flex;\n",
              "      flex-wrap:wrap;\n",
              "      gap: 12px;\n",
              "    }\n",
              "\n",
              "    .colab-df-convert {\n",
              "      background-color: #E8F0FE;\n",
              "      border: none;\n",
              "      border-radius: 50%;\n",
              "      cursor: pointer;\n",
              "      display: none;\n",
              "      fill: #1967D2;\n",
              "      height: 32px;\n",
              "      padding: 0 0 0 0;\n",
              "      width: 32px;\n",
              "    }\n",
              "\n",
              "    .colab-df-convert:hover {\n",
              "      background-color: #E2EBFA;\n",
              "      box-shadow: 0px 1px 2px rgba(60, 64, 67, 0.3), 0px 1px 3px 1px rgba(60, 64, 67, 0.15);\n",
              "      fill: #174EA6;\n",
              "    }\n",
              "\n",
              "    [theme=dark] .colab-df-convert {\n",
              "      background-color: #3B4455;\n",
              "      fill: #D2E3FC;\n",
              "    }\n",
              "\n",
              "    [theme=dark] .colab-df-convert:hover {\n",
              "      background-color: #434B5C;\n",
              "      box-shadow: 0px 1px 3px 1px rgba(0, 0, 0, 0.15);\n",
              "      filter: drop-shadow(0px 1px 2px rgba(0, 0, 0, 0.3));\n",
              "      fill: #FFFFFF;\n",
              "    }\n",
              "  </style>\n",
              "\n",
              "      <script>\n",
              "        const buttonEl =\n",
              "          document.querySelector('#df-d771d358-a3cb-42e6-ab09-8a3cdc4f67b6 button.colab-df-convert');\n",
              "        buttonEl.style.display =\n",
              "          google.colab.kernel.accessAllowed ? 'block' : 'none';\n",
              "\n",
              "        async function convertToInteractive(key) {\n",
              "          const element = document.querySelector('#df-d771d358-a3cb-42e6-ab09-8a3cdc4f67b6');\n",
              "          const dataTable =\n",
              "            await google.colab.kernel.invokeFunction('convertToInteractive',\n",
              "                                                     [key], {});\n",
              "          if (!dataTable) return;\n",
              "\n",
              "          const docLinkHtml = 'Like what you see? Visit the ' +\n",
              "            '<a target=\"_blank\" href=https://colab.research.google.com/notebooks/data_table.ipynb>data table notebook</a>'\n",
              "            + ' to learn more about interactive tables.';\n",
              "          element.innerHTML = '';\n",
              "          dataTable['output_type'] = 'display_data';\n",
              "          await google.colab.output.renderOutput(dataTable, element);\n",
              "          const docLink = document.createElement('div');\n",
              "          docLink.innerHTML = docLinkHtml;\n",
              "          element.appendChild(docLink);\n",
              "        }\n",
              "      </script>\n",
              "    </div>\n",
              "  </div>\n",
              "  "
            ],
            "text/plain": [
              "       Pregnancies     Glucose  SkinThickness         BMI         Age  Outcome\n",
              "count   268.000000  268.000000     268.000000  268.000000  268.000000    268.0\n",
              "mean      4.865672  142.159661      29.716418   35.381343   37.067164      1.0\n",
              "std       3.741239   29.545943       9.676886    6.596704   10.968254      0.0\n",
              "min       0.000000   78.000000       7.000000   22.900000   21.000000      1.0\n",
              "25%       1.750000  119.000000      23.000000   30.900000   28.000000      1.0\n",
              "50%       4.000000  140.000000      27.000000   34.250000   36.000000      1.0\n",
              "75%       8.000000  167.000000      36.000000   38.775000   44.000000      1.0\n",
              "max      17.000000  199.000000      99.000000   67.100000   70.000000      1.0"
            ]
          },
          "metadata": {},
          "execution_count": 108
        }
      ]
    },
    {
      "cell_type": "code",
      "source": [
        "df_selected['Outcome_predicted'] = None\n",
        "df_selected.loc[df_selected['Glucose'] >= 125, 'Outcome_predicted'] = 1\n",
        "df_selected.loc[df_selected['Glucose'] < 125, 'Outcome_predicted'] = 0\n",
        "y_actual = df_selected['Outcome'].to_list()\n",
        "soft_predicted = df_selected['Outcome_predicted'].to_list()"
      ],
      "metadata": {
        "execution": {
          "iopub.status.busy": "2022-01-16T18:34:18.596396Z",
          "iopub.execute_input": "2022-01-16T18:34:18.596797Z",
          "iopub.status.idle": "2022-01-16T18:34:18.604224Z",
          "shell.execute_reply.started": "2022-01-16T18:34:18.596766Z",
          "shell.execute_reply": "2022-01-16T18:34:18.603372Z"
        },
        "trusted": true,
        "id": "htW7CUnCOUe-"
      },
      "execution_count": 109,
      "outputs": []
    },
    {
      "cell_type": "code",
      "source": [
        "from sklearn.metrics import classification_report\n",
        "print(\"Classification Report is:\\n\",classification_report(y_actual,soft_predicted))\n",
        "print(\"\\n F1:\\n\",f1_score(y_actual,soft_predicted))\n",
        "print(\"\\n Precision score is:\\n\",precision_score(y_actual,soft_predicted))\n",
        "print(\"\\n Recall score is:\\n\",recall_score(y_actual,soft_predicted))\n",
        "print(\"\\n Confusion Matrix:\\n\")\n",
        "sns.heatmap(confusion_matrix(y_actual,soft_predicted))"
      ],
      "metadata": {
        "execution": {
          "iopub.status.busy": "2022-01-16T18:38:33.154271Z",
          "iopub.execute_input": "2022-01-16T18:38:33.154699Z",
          "iopub.status.idle": "2022-01-16T18:38:33.414361Z",
          "shell.execute_reply.started": "2022-01-16T18:38:33.154668Z",
          "shell.execute_reply": "2022-01-16T18:38:33.413740Z"
        },
        "trusted": true,
        "colab": {
          "base_uri": "https://localhost:8080/",
          "height": 690
        },
        "id": "MTrvJHZ5OUe-",
        "outputId": "568f257d-89a3-4fc6-ecce-a9b6143f37b3"
      },
      "execution_count": 110,
      "outputs": [
        {
          "output_type": "stream",
          "name": "stdout",
          "text": [
            "Classification Report is:\n",
            "               precision    recall  f1-score   support\n",
            "\n",
            "           0       0.81      0.74      0.78       500\n",
            "           1       0.59      0.68      0.63       268\n",
            "\n",
            "    accuracy                           0.72       768\n",
            "   macro avg       0.70      0.71      0.70       768\n",
            "weighted avg       0.74      0.72      0.73       768\n",
            "\n",
            "\n",
            " F1:\n",
            " 0.6321243523316062\n",
            "\n",
            " Precision score is:\n",
            " 0.5884244372990354\n",
            "\n",
            " Recall score is:\n",
            " 0.6828358208955224\n",
            "\n",
            " Confusion Matrix:\n",
            "\n"
          ]
        },
        {
          "output_type": "execute_result",
          "data": {
            "text/plain": [
              "<matplotlib.axes._subplots.AxesSubplot at 0x7f84e02b3ad0>"
            ]
          },
          "metadata": {},
          "execution_count": 110
        },
        {
          "output_type": "display_data",
          "data": {
            "image/png": "[encoded data removed]",
            "text/plain": [
              "<Figure size 432x288 with 2 Axes>"
            ]
          },
          "metadata": {}
        }
      ]
    },
    {
      "cell_type": "markdown",
      "source": [
        ""
      ],
      "metadata": {
        "id": "KHzIn7t0OUe_"
      }
    },
    {
      "cell_type": "markdown",
      "source": [
        "## 9.4 Fuzzy Sets\n",
        "\n",
        "Soft sets can be fuzzified, using \"fuzzy logic\" instead of crisp, it requries much more expert knowledge to create a set of rules for all scenarios so results can be defuzzifed. Below is just basic example of how such set of rules could have been built and used.\n",
        "\n"
      ],
      "metadata": {
        "id": "Y-2HvIgSOUe_"
      }
    },
    {
      "cell_type": "code",
      "source": [
        "import numpy as np\n",
        "import skfuzzy as fuzz\n",
        "from skfuzzy import control as ctrl\n",
        "\n",
        "# New Antecedent/Consequent objects hold universe variables and membership\n",
        "# functions\n",
        "Glucose = ctrl.Antecedent(df_selected['Glucose'], 'Glucose')\n",
        "Outcome = ctrl.Consequent(df_selected['Outcome'], 'Outcome')\n",
        "\n",
        "# Auto-membership function population is possible with .automf(3, 5, or 7)\n",
        "Glucose.automf(3)\n",
        "Outcome.automf(3)"
      ],
      "metadata": {
        "id": "DJ1dwu9aPVuc"
      },
      "execution_count": 111,
      "outputs": []
    },
    {
      "cell_type": "code",
      "source": [
        "Glucose.view()"
      ],
      "metadata": {
        "execution": {
          "iopub.status.busy": "2022-01-16T17:08:45.777186Z",
          "iopub.execute_input": "2022-01-16T17:08:45.777765Z",
          "iopub.status.idle": "2022-01-16T17:08:46.113740Z",
          "shell.execute_reply.started": "2022-01-16T17:08:45.777728Z",
          "shell.execute_reply": "2022-01-16T17:08:46.112842Z"
        },
        "trusted": true,
        "colab": {
          "base_uri": "https://localhost:8080/",
          "height": 281
        },
        "id": "0lLHArcDOUe_",
        "outputId": "c32967b2-021d-4a6b-e2fd-bd3e0bc43461"
      },
      "execution_count": 112,
      "outputs": [
        {
          "output_type": "display_data",
          "data": {
            "image/png": "[encoded data removed]",
            "text/plain": [
              "<Figure size 432x288 with 1 Axes>"
            ]
          },
          "metadata": {}
        }
      ]
    },
    {
      "cell_type": "code",
      "source": [
        "# You can see how these look with .view()\n",
        "Outcome.view() # Output is binary."
      ],
      "metadata": {
        "execution": {
          "iopub.status.busy": "2022-01-16T17:08:49.717638Z",
          "iopub.execute_input": "2022-01-16T17:08:49.717925Z",
          "iopub.status.idle": "2022-01-16T17:08:49.966527Z",
          "shell.execute_reply.started": "2022-01-16T17:08:49.717892Z",
          "shell.execute_reply": "2022-01-16T17:08:49.965748Z"
        },
        "trusted": true,
        "colab": {
          "base_uri": "https://localhost:8080/",
          "height": 281
        },
        "id": "R35DtRBIOUe_",
        "outputId": "777f6675-d847-4b4c-b046-6201976a1a40"
      },
      "execution_count": 113,
      "outputs": [
        {
          "output_type": "display_data",
          "data": {
            "image/png": "[encoded data removed]",
            "text/plain": [
              "<Figure size 432x288 with 1 Axes>"
            ]
          },
          "metadata": {}
        }
      ]
    },
    {
      "cell_type": "markdown",
      "source": [
        "### NOT ENOUGH RULES, SHOULD COVER EVERY SCENARIO WITH DATA"
      ],
      "metadata": {
        "id": "z3aKY3rIOUe_"
      }
    },
    {
      "cell_type": "code",
      "source": [
        "# Expert knowledge that i don't have should be used here.\n",
        "rule1 = ctrl.Rule(Glucose['poor'],Outcome['poor'])\n",
        "rule2 = ctrl.Rule(Glucose['average'],Outcome['average'])\n",
        "rule3 = ctrl.Rule(Glucose['good'],Outcome['good'],)\n",
        "\n",
        "\n",
        "\n",
        "fuzzy = ctrl.ControlSystem([rule1,rule2,rule3])\n",
        "fuzzySimulation = ctrl.ControlSystemSimulation(fuzzy)\n"
      ],
      "metadata": {
        "execution": {
          "iopub.status.busy": "2022-01-16T17:08:53.927628Z",
          "iopub.execute_input": "2022-01-16T17:08:53.927936Z",
          "iopub.status.idle": "2022-01-16T17:08:53.935036Z",
          "shell.execute_reply.started": "2022-01-16T17:08:53.927900Z",
          "shell.execute_reply": "2022-01-16T17:08:53.934212Z"
        },
        "trusted": true,
        "id": "weLL6bhHOUe_"
      },
      "execution_count": 114,
      "outputs": []
    },
    {
      "cell_type": "code",
      "source": [
        "# Pass inputs to the ControlSystem using Antecedent labels with Pythonic API\n",
        "# Note: if you like passing many inputs all at once, use .inputs(dict_of_data)\n",
        "for value in df['Glucose']:\n",
        "    fuzzySimulation.input['Glucose'] = value\n",
        "#     fuzzySimulation.compute()\n"
      ],
      "metadata": {
        "execution": {
          "iopub.status.busy": "2022-01-16T18:42:53.167644Z",
          "iopub.execute_input": "2022-01-16T18:42:53.167936Z",
          "iopub.status.idle": "2022-01-16T18:42:53.200362Z",
          "shell.execute_reply.started": "2022-01-16T18:42:53.167907Z",
          "shell.execute_reply": "2022-01-16T18:42:53.199681Z"
        },
        "trusted": true,
        "id": "hqLbgWb-OUfA"
      },
      "execution_count": 115,
      "outputs": []
    },
    {
      "cell_type": "markdown",
      "source": [
        "# 10. Conclusion\n",
        "\n",
        "For this type of problem, the best results is to use ML algorithms and techniques that do not require expert knowledge from well tested and documated sources such as popular sci-kit. It performed the best."
      ],
      "metadata": {
        "id": "NtBpkiMLyHf5"
      }
    },
    {
      "cell_type": "markdown",
      "source": [
        "# 11. Generate PDF documentation from the .ipnyb"
      ],
      "metadata": {
        "id": "lOaIVeR_xoRf"
      }
    },
    {
      "cell_type": "code",
      "source": [
        "\n",
        "!wget -nc https://raw.githubusercontent.com/brpy/colab-pdf/master/colab_pdf.py\n",
        "from colab_pdf import colab_pdf\n",
        "colab_pdf('diabetes-prediction-project.ipynb')"
      ],
      "metadata": {
        "id": "1gZVyjGMPldu",
        "colab": {
          "base_uri": "https://localhost:8080/",
          "height": 626
        },
        "outputId": "a289c054-e2f3-403a-d1a2-817a634bc5f6"
      },
      "execution_count": 263,
      "outputs": [
        {
          "output_type": "stream",
          "name": "stdout",
          "text": [
            "File ‘colab_pdf.py’ already there; not retrieving.\n",
            "\n",
            "\n",
            "WARNING: apt does not have a stable CLI interface. Use with caution in scripts.\n",
            "\n",
            "\n",
            "WARNING: apt does not have a stable CLI interface. Use with caution in scripts.\n",
            "\n",
            "[NbConvertApp] Converting notebook /content/drive/MyDrive/Colab Notebooks/diabetes-prediction-project.ipynb to pdf\n",
            "[NbConvertApp] Support files will be in diabetes-prediction-project_files/\n",
            "[NbConvertApp] Making directory ./diabetes-prediction-project_files\n",
            "[NbConvertApp] Making directory ./diabetes-prediction-project_files\n",
            "[NbConvertApp] Making directory ./diabetes-prediction-project_files\n",
            "[NbConvertApp] Making directory ./diabetes-prediction-project_files\n",
            "[NbConvertApp] Making directory ./diabetes-prediction-project_files\n",
            "[NbConvertApp] Making directory ./diabetes-prediction-project_files\n",
            "[NbConvertApp] Making directory ./diabetes-prediction-project_files\n",
            "[NbConvertApp] Making directory ./diabetes-prediction-project_files\n",
            "[NbConvertApp] Making directory ./diabetes-prediction-project_files\n",
            "[NbConvertApp] Making directory ./diabetes-prediction-project_files\n",
            "[NbConvertApp] Making directory ./diabetes-prediction-project_files\n",
            "[NbConvertApp] Making directory ./diabetes-prediction-project_files\n",
            "[NbConvertApp] Making directory ./diabetes-prediction-project_files\n",
            "[NbConvertApp] Making directory ./diabetes-prediction-project_files\n",
            "[NbConvertApp] Making directory ./diabetes-prediction-project_files\n",
            "[NbConvertApp] Writing 110388 bytes to ./notebook.tex\n",
            "[NbConvertApp] Building PDF\n",
            "[NbConvertApp] Running xelatex 3 times: [u'xelatex', u'./notebook.tex', '-quiet']\n",
            "[NbConvertApp] Running bibtex 1 time: [u'bibtex', u'./notebook']\n",
            "[NbConvertApp] WARNING | bibtex had problems, most likely because there were no citations\n",
            "[NbConvertApp] PDF successfully created\n",
            "[NbConvertApp] Writing 306981 bytes to /content/drive/My Drive/diabetes-prediction-project.pdf\n"
          ]
        },
        {
          "output_type": "display_data",
          "data": {
            "application/javascript": [
              "\n",
              "    async function download(id, filename, size) {\n",
              "      if (!google.colab.kernel.accessAllowed) {\n",
              "        return;\n",
              "      }\n",
              "      const div = document.createElement('div');\n",
              "      const label = document.createElement('label');\n",
              "      label.textContent = `Downloading \"${filename}\": `;\n",
              "      div.appendChild(label);\n",
              "      const progress = document.createElement('progress');\n",
              "      progress.max = size;\n",
              "      div.appendChild(progress);\n",
              "      document.body.appendChild(div);\n",
              "\n",
              "      const buffers = [];\n",
              "      let downloaded = 0;\n",
              "\n",
              "      const channel = await google.colab.kernel.comms.open(id);\n",
              "      // Send a message to notify the kernel that we're ready.\n",
              "      channel.send({})\n",
              "\n",
              "      for await (const message of channel.messages) {\n",
              "        // Send a message to notify the kernel that we're ready.\n",
              "        channel.send({})\n",
              "        if (message.buffers) {\n",
              "          for (const buffer of message.buffers) {\n",
              "            buffers.push(buffer);\n",
              "            downloaded += buffer.byteLength;\n",
              "            progress.value = downloaded;\n",
              "          }\n",
              "        }\n",
              "      }\n",
              "      const blob = new Blob(buffers, {type: 'application/binary'});\n",
              "      const a = document.createElement('a');\n",
              "      a.href = window.URL.createObjectURL(blob);\n",
              "      a.download = filename;\n",
              "      div.appendChild(a);\n",
              "      a.click();\n",
              "      div.remove();\n",
              "    }\n",
              "  "
            ],
            "text/plain": [
              "<IPython.core.display.Javascript object>"
            ]
          },
          "metadata": {}
        },
        {
          "output_type": "display_data",
          "data": {
            "application/javascript": [
              "download(\"download_231620eb-84e8-47af-b688-8c203c0af40a\", \"diabetes-prediction-project.pdf\", 306981)"
            ],
            "text/plain": [
              "<IPython.core.display.Javascript object>"
            ]
          },
          "metadata": {}
        },
        {
          "output_type": "execute_result",
          "data": {
            "application/vnd.google.colaboratory.intrinsic+json": {
              "type": "string"
            },
            "text/plain": [
              "'File ready to be Downloaded and Saved to Drive'"
            ]
          },
          "metadata": {},
          "execution_count": 263
        }
      ]
    }
  ]
}